{
 "cells": [
  {
   "cell_type": "markdown",
   "metadata": {},
   "source": [
    "### Find Thanksgiving Day for a given year"
   ]
  },
  {
   "cell_type": "code",
   "execution_count": 1,
   "metadata": {},
   "outputs": [],
   "source": [
    "import calendar\n",
    "from datetime import date\n",
    "\n",
    "def find_thanksgiving(year):\n",
    "    calendar.setfirstweekday(calendar.SUNDAY)\n",
    "    cal_weeks = calendar.monthcalendar(year, 11)\n",
    "    \n",
    "    count = 0\n",
    "    for week in cal_weeks:\n",
    "        if week[4]:\n",
    "            count += 1\n",
    "        if count == 4:\n",
    "#             print(f\"Thanksgiving day in {year}: November {week[4]}\")\n",
    "            return date(year, 11, week[4])\n",
    "            "
   ]
  },
  {
   "cell_type": "code",
   "execution_count": 2,
   "metadata": {},
   "outputs": [
    {
     "name": "stdout",
     "output_type": "stream",
     "text": [
      "2010-11-25\n",
      "2011-11-24\n",
      "2012-11-22\n",
      "2013-11-28\n",
      "2014-11-27\n",
      "2015-11-26\n",
      "2016-11-24\n",
      "2017-11-23\n",
      "2018-11-22\n",
      "2019-11-28\n",
      "2020-11-26\n"
     ]
    }
   ],
   "source": [
    "for year in range(2010, 2021):\n",
    "    print(find_thanksgiving(year))"
   ]
  },
  {
   "cell_type": "markdown",
   "metadata": {},
   "source": [
    "### Find files created in the last n days"
   ]
  },
  {
   "cell_type": "code",
   "execution_count": 3,
   "metadata": {},
   "outputs": [],
   "source": [
    "from datetime import *\n",
    "import glob\n",
    "import os\n",
    "import pprint\n",
    "\n",
    "def find_files_created(dir_path, ndays):\n",
    "    \n",
    "    os.chdir(dir_path)\n",
    "    ndays_before = datetime.today() - timedelta(days=ndays)\n",
    "    \n",
    "    recent_files = dict()\n",
    "    for file in glob.glob(\"*.*\"):\n",
    "        ctime = datetime.fromtimestamp(os.path.getctime(file))\n",
    "        if ctime > ndays_before:\n",
    "            recent_files[file] = ctime\n",
    "\n",
    "    return recent_files"
   ]
  },
  {
   "cell_type": "markdown",
   "metadata": {},
   "source": [
    "### This part isn't required"
   ]
  },
  {
   "cell_type": "code",
   "execution_count": 15,
   "metadata": {
    "scrolled": true
   },
   "outputs": [
    {
     "name": "stdout",
     "output_type": "stream",
     "text": [
      "hw4-1.py                      :  2019-10-19 02:44:18\n",
      "HW5 Soln.ipynb                :  2019-10-13 20:37:31\n",
      "HW4-2 Soln.ipynb              :  2019-10-12 00:54:50\n",
      "sf_2019-09-30_data.csv        :  2019-10-11 18:00:20\n",
      "HW3-2 Soln.ipynb              :  2019-10-03 02:17:58\n",
      "aver_temp.json                :  2019-10-03 02:17:58\n",
      "hw3-1.py                      :  2019-09-28 23:37:33\n",
      "sonnet.txt                    :  2019-09-21 01:15:46\n",
      "hw2-2.csv                     :  2019-09-21 01:15:44\n",
      "HW1 soln.txt                  :  2019-09-21 01:15:44\n",
      "HW2 Soln.ipynb                :  2019-09-21 01:15:44\n",
      "HW2 soln.txt                  :  2019-09-21 01:15:44\n"
     ]
    }
   ],
   "source": [
    "files = find_files_created(\".\", 30)\n",
    "\n",
    "recent_file_list = sorted(files.items(), key=lambda x: x[1], reverse=True)   \n",
    "for key, value in recent_file_list:\n",
    "    print(f\"{key:30}:  {value.strftime('%Y-%m-%d %H:%M:%S')}\")"
   ]
  }
 ],
 "metadata": {
  "kernelspec": {
   "display_name": "Python 3",
   "language": "python",
   "name": "python3"
  },
  "language_info": {
   "codemirror_mode": {
    "name": "ipython",
    "version": 3
   },
   "file_extension": ".py",
   "mimetype": "text/x-python",
   "name": "python",
   "nbconvert_exporter": "python",
   "pygments_lexer": "ipython3",
   "version": "3.7.3"
  }
 },
 "nbformat": 4,
 "nbformat_minor": 4
}
