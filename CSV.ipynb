{
 "cells": [
  {
   "cell_type": "markdown",
   "metadata": {},
   "source": [
    "# csv standard libary   <a href=\"https://docs.python.org/3.7/library/csv.html\">python doc</a>"
   ]
  },
  {
   "cell_type": "markdown",
   "metadata": {},
   "source": [
    "### Basic CSV usages:\n",
    "\n",
    "* csv.reader\n",
    "* csv.writer\n",
    "* csv.DictReader\n",
    "* csv.DictWriter"
   ]
  },
  {
   "cell_type": "code",
   "execution_count": 44,
   "metadata": {},
   "outputs": [],
   "source": [
    "import csv"
   ]
  },
  {
   "cell_type": "markdown",
   "metadata": {},
   "source": [
    "### Read a csv file"
   ]
  },
  {
   "cell_type": "code",
   "execution_count": 24,
   "metadata": {},
   "outputs": [
    {
     "name": "stdout",
     "output_type": "stream",
     "text": [
      "['09/01/2019', 'DATA200', '10']\n",
      "['09/02/2019', 'DATA220', '20']\n",
      "['09/03/2019', 'DATA230', '15 ']\n",
      "['09/04/2019', 'DATA220', '10']\n",
      "['09/05/2019', 'DATA200', '20 ']\n",
      "['09/06/2019', 'DATA230', '5']\n",
      "['09/07/2019', 'DATA220', '30']\n"
     ]
    }
   ],
   "source": [
    "with open('input.txt') as csv_file:\n",
    "    reader = csv.reader(csv_file)\n",
    "    for row in reader:\n",
    "        print(row)"
   ]
  },
  {
   "cell_type": "markdown",
   "metadata": {},
   "source": [
    "### Write a csv file"
   ]
  },
  {
   "cell_type": "code",
   "execution_count": 25,
   "metadata": {},
   "outputs": [],
   "source": [
    "with open('test.csv', \"w\", newline='') as csv_file:\n",
    "    writer = csv.writer(csv_file)\n",
    "    #write a bunch of rows\n",
    "    writer.writerow([\"HW1\", 80])\n",
    "    writer.writerow([\"HW2\", 40])\n",
    "    writer.writerow([\"HW3\", 60])\n",
    "\n",
    "    "
   ]
  },
  {
   "cell_type": "markdown",
   "metadata": {},
   "source": [
    "### Read a csv file and convert rows into dictionaries"
   ]
  },
  {
   "cell_type": "code",
   "execution_count": 5,
   "metadata": {},
   "outputs": [
    {
     "name": "stdout",
     "output_type": "stream",
     "text": [
      "OrderedDict([('date', '09/01/2019'), ('class', 'DATA200'), ('score', '10')])\n",
      "OrderedDict([('date', '09/02/2019'), ('class', 'DATA220'), ('score', '20')])\n",
      "OrderedDict([('date', '09/03/2019'), ('class', 'DATA230'), ('score', '15 ')])\n",
      "OrderedDict([('date', '09/04/2019'), ('class', 'DATA220'), ('score', '10')])\n",
      "OrderedDict([('date', '09/05/2019'), ('class', 'DATA200'), ('score', '20 ')])\n",
      "OrderedDict([('date', '09/06/2019'), ('class', 'DATA230'), ('score', '5')])\n",
      "OrderedDict([('date', '09/07/2019'), ('class', 'DATA220'), ('score', '30')])\n"
     ]
    }
   ],
   "source": [
    "with open('input.txt') as csv_file:\n",
    "    reader = csv.DictReader(csv_file, fieldnames=['date', 'class', \"score\"])\n",
    "    for row in reader:\n",
    "        print(row)"
   ]
  },
  {
   "cell_type": "markdown",
   "metadata": {},
   "source": [
    "### Write a csv that maps dictionaries onto rows"
   ]
  },
  {
   "cell_type": "code",
   "execution_count": 42,
   "metadata": {},
   "outputs": [],
   "source": [
    "with open('test2.csv', \"w\", newline='') as csv_file:\n",
    "    writer = csv.DictWriter(csv_file, fieldnames=['homework', \"points\"])\n",
    "    writer.writeheader()\n",
    "    #write a bunch of rows\n",
    "    writer.writerow({\"homework\": \"HW1\", \"points\": 40})\n",
    "    writer.writerow({\"homework\": \"HW2\", \"points\": 30})"
   ]
  },
  {
   "cell_type": "code",
   "execution_count": null,
   "metadata": {},
   "outputs": [],
   "source": [
    "with open('input.txt') as csv_file:\n",
    "    reader = csv.reader(csv-file)\n",
    "    for row in reader:\n",
    "    print(row)\n",
    "with open('input.txt', 'w', newline = '')as csv_file:\n",
    "    writer = csv.writer(csv_file)\n",
    "    writer.writerow(['HW1', 30])\n",
    "    writer.writerow(['hw2', 40])\n",
    "    \n",
    "    \n",
    "with open('input.txt') as csv_file:\n",
    "    reader = csv.DictReader(csv_file, fieldnames=['date', 'class', 'score'])\n",
    "    for row in reader:\n",
    "        print(row)\n",
    "        \n",
    "with open('test2csv', \"w\", newline='') as csv_file:\n",
    "    writer = csv.Dictwriter(csv_file, fieldnames = ['homework', 'points'])\n",
    "    writer.writerheader()\n",
    "    writer.writerow({'homework': 'hw1', 'points': 10})\n",
    "    writer.writerow({'homework': 'hw2', 'points': 20})"
   ]
  },
  {
   "cell_type": "code",
   "execution_count": 48,
   "metadata": {},
   "outputs": [
    {
     "name": "stdout",
     "output_type": "stream",
     "text": [
      "['name', 'age', 'sex']\n",
      "['Rahul', '30', 'male']\n",
      "['Sukriti', '28', 'female']\n"
     ]
    }
   ],
   "source": [
    "list = []\n",
    "list.append({'name': 'Rahul', 'age': 30, 'sex': 'male'})\n",
    "list.append({'name': 'Sukriti', 'age': 28, 'sex': 'female'})\n",
    "with open('family.csv', \"w\", newline='') as csv_file:\n",
    "    writer = csv.DictWriter(csv_file, fieldnames=['name', 'age', 'sex'])\n",
    "    writer.writeheader()\n",
    "    for value in list:\n",
    "        writer.writerow(value)\n",
    "with open('family.csv') as csv_file:\n",
    "    reader = csv.reader(csv_file)\n",
    "    for row in reader:\n",
    "        print(row)\n",
    "    \n"
   ]
  },
  {
   "cell_type": "code",
   "execution_count": null,
   "metadata": {},
   "outputs": [],
   "source": []
  }
 ],
 "metadata": {
  "kernelspec": {
   "display_name": "Python 3",
   "language": "python",
   "name": "python3"
  },
  "language_info": {
   "codemirror_mode": {
    "name": "ipython",
    "version": 3
   },
   "file_extension": ".py",
   "mimetype": "text/x-python",
   "name": "python",
   "nbconvert_exporter": "python",
   "pygments_lexer": "ipython3",
   "version": "3.7.3"
  }
 },
 "nbformat": 4,
 "nbformat_minor": 4
}
