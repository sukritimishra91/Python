{
 "cells": [
  {
   "cell_type": "markdown",
   "metadata": {},
   "source": [
    "### grab weather data using api"
   ]
  },
  {
   "cell_type": "code",
   "execution_count": null,
   "metadata": {},
   "outputs": [],
   "source": [
    "import urllib\n",
    "import json\n",
    "\n",
    "response = urllib.request.urlopen(\"https://www.metaweather.com/api/location/2487956/2019/9/30\")\n",
    "data = response.read()\n",
    "weather_dict = json.loads(data.decode(\"utf-8\"))"
   ]
  },
  {
   "cell_type": "markdown",
   "metadata": {},
   "source": [
    "### extracting data from json"
   ]
  },
  {
   "cell_type": "code",
   "execution_count": null,
   "metadata": {},
   "outputs": [],
   "source": [
    "print(weather_dict)"
   ]
  },
  {
   "cell_type": "code",
   "execution_count": null,
   "metadata": {},
   "outputs": [],
   "source": [
    "print(weather_dict[0])"
   ]
  },
  {
   "cell_type": "code",
   "execution_count": null,
   "metadata": {},
   "outputs": [],
   "source": [
    "columns = ('created', 'applicable_date', 'the_temp', 'air_pressure', 'humidity' )\n",
    "l = [weather_dict[0][i] for i in columns]\n",
    "print(l)\n",
    "l[0] = l[0].split(\"T\")[0]\n",
    "print(l)"
   ]
  },
  {
   "cell_type": "code",
   "execution_count": null,
   "metadata": {
    "scrolled": true
   },
   "outputs": [],
   "source": [
    "columns = ('created', 'applicable_date', 'the_temp', 'air_pressure', 'humidity' )\n",
    "header = \",\".join(columns)\n",
    "print(header)\n",
    "\n",
    "all_lists = []\n",
    "for entry in weather_dict:\n",
    "    \n",
    "    if entry['created'].startswith(\"2019-10-01\"):\n",
    "        continue\n",
    "\n",
    "    l = [entry[i] for i in columns]\n",
    "    l[0] = l[0].split(\"T\")[0]\n",
    "    \n",
    "    # saving all the rows\n",
    "    all_lists.append(l)\n",
    "    output = \",\".join([str(i) for i in l])\n",
    "    print(output)"
   ]
  },
  {
   "cell_type": "markdown",
   "metadata": {},
   "source": [
    "### writing raw data to csv file"
   ]
  },
  {
   "cell_type": "code",
   "execution_count": null,
   "metadata": {},
   "outputs": [],
   "source": [
    "import csv\n",
    "\n",
    "with open(\"sf_2019-09-30_data.csv\", \"w\", newline='') as csv_file:\n",
    "    writer = csv.writer(csv_file)\n",
    "    writer.writerow(columns)\n",
    "    for line in all_lists:\n",
    "        writer.writerow(line)"
   ]
  },
  {
   "cell_type": "code",
   "execution_count": null,
   "metadata": {},
   "outputs": [],
   "source": [
    "import pprint\n",
    "\n",
    "pprint.pprint(all_lists)"
   ]
  },
  {
   "cell_type": "markdown",
   "metadata": {},
   "source": [
    "### define function to compute daily averages"
   ]
  },
  {
   "cell_type": "code",
   "execution_count": null,
   "metadata": {},
   "outputs": [],
   "source": [
    "def compute_average(lists):\n",
    "    the_temp = 0\n",
    "    air_pressure = 0\n",
    "    humidity = 0\n",
    "    count = len(lists)\n",
    "    \n",
    "    for l in lists:\n",
    "        the_temp += l[2]\n",
    "        air_pressure += l[3]\n",
    "        humidity += l[4]\n",
    "    \n",
    "    return the_temp/count, air_pressure/count, humidity/count"
   ]
  },
  {
   "cell_type": "markdown",
   "metadata": {},
   "source": [
    "### use groupby to group data by date"
   ]
  },
  {
   "cell_type": "code",
   "execution_count": null,
   "metadata": {},
   "outputs": [],
   "source": [
    "import itertools\n",
    "import pprint\n",
    "\n",
    "\n",
    "for key, group in itertools.groupby(all_lists, key=lambda x: x[0]):\n",
    "    grp_list = list(group)\n",
    "    print(\"\\n\", key, len(grp_list))\n",
    "    pprint.pprint(grp_list)\n",
    "    daily_averages = compute_average(grp_list)\n",
    "    print(daily_averages)"
   ]
  },
  {
   "cell_type": "code",
   "execution_count": null,
   "metadata": {},
   "outputs": [],
   "source": []
  }
 ],
 "metadata": {
  "celltoolbar": "Slideshow",
  "kernelspec": {
   "display_name": "Python 3",
   "language": "python",
   "name": "python3"
  },
  "language_info": {
   "codemirror_mode": {
    "name": "ipython",
    "version": 3
   },
   "file_extension": ".py",
   "mimetype": "text/x-python",
   "name": "python",
   "nbconvert_exporter": "python",
   "pygments_lexer": "ipython3",
   "version": "3.7.3"
  }
 },
 "nbformat": 4,
 "nbformat_minor": 4
}
