{
 "cells": [
  {
   "cell_type": "markdown",
   "metadata": {},
   "source": [
    "# re standard libary   <a href=\"https://docs.python.org/3.7/library/re.html\">python doc</a>"
   ]
  },
  {
   "cell_type": "markdown",
   "metadata": {},
   "source": [
    "Here are the basic functions from the re library:\n",
    "\n",
    "* findall()\n",
    "* search()\n",
    "* split()\n",
    "* sub()"
   ]
  },
  {
   "cell_type": "code",
   "execution_count": 2,
   "metadata": {},
   "outputs": [],
   "source": [
    "import re"
   ]
  },
  {
   "cell_type": "markdown",
   "metadata": {},
   "source": [
    "### findall - returns a list containing all the matches"
   ]
  },
  {
   "cell_type": "code",
   "execution_count": 77,
   "metadata": {},
   "outputs": [
    {
     "name": "stdout",
     "output_type": "stream",
     "text": [
      "['in', 'in', 'in']\n"
     ]
    }
   ],
   "source": [
    "s = \"The train runs in the rain\"\n",
    "x = re.findall(\"in\", s)\n",
    "print(x)\n"
   ]
  },
  {
   "cell_type": "code",
   "execution_count": 3,
   "metadata": {},
   "outputs": [
    {
     "name": "stdout",
     "output_type": "stream",
     "text": [
      "['The', 'the']\n"
     ]
    }
   ],
   "source": [
    "x = re.findall(\"[Tt]he\", s)\n",
    "print(x)\n"
   ]
  },
  {
   "cell_type": "code",
   "execution_count": 4,
   "metadata": {},
   "outputs": [
    {
     "name": "stdout",
     "output_type": "stream",
     "text": [
      "['train', 'in', 'rain']\n"
     ]
    }
   ],
   "source": [
    "x = re.findall(\"\\S*in\", s)\n",
    "print(x)\n",
    "# s= one non white space character\n",
    "# *= 0 or more\n",
    "# + = 1 or more"
   ]
  },
  {
   "cell_type": "code",
   "execution_count": 5,
   "metadata": {},
   "outputs": [
    {
     "name": "stdout",
     "output_type": "stream",
     "text": [
      "['train', 'rain']\n"
     ]
    }
   ],
   "source": [
    "x = re.findall(\"\\S+in\", s)\n",
    "print(x)"
   ]
  },
  {
   "cell_type": "code",
   "execution_count": 6,
   "metadata": {},
   "outputs": [
    {
     "name": "stdout",
     "output_type": "stream",
     "text": [
      "['rain']\n"
     ]
    }
   ],
   "source": [
    "x = re.findall(\"\\S+in$\", s)\n",
    "print(x)"
   ]
  },
  {
   "cell_type": "code",
   "execution_count": 7,
   "metadata": {},
   "outputs": [
    {
     "name": "stdout",
     "output_type": "stream",
     "text": [
      "['train', 'rain', '']\n"
     ]
    }
   ],
   "source": [
    "x = re.findall(\"\\S+in|$\", s)\n",
    "print(x)"
   ]
  },
  {
   "cell_type": "markdown",
   "metadata": {},
   "source": [
    "#### Greedy vs Non-greedy"
   ]
  },
  {
   "cell_type": "code",
   "execution_count": 8,
   "metadata": {},
   "outputs": [
    {
     "name": "stdout",
     "output_type": "stream",
     "text": [
      "['The train runs in the']\n"
     ]
    }
   ],
   "source": [
    "x = re.findall(\".*he\", s)\n",
    "print(x)"
   ]
  },
  {
   "cell_type": "code",
   "execution_count": 9,
   "metadata": {},
   "outputs": [
    {
     "name": "stdout",
     "output_type": "stream",
     "text": [
      "['The', ' train runs in the']\n"
     ]
    }
   ],
   "source": [
    "x = re.findall(\".*?he\", s)\n",
    "print(x)"
   ]
  },
  {
   "cell_type": "markdown",
   "metadata": {},
   "source": [
    "### search() - returns a Match object if there's a match in the string"
   ]
  },
  {
   "cell_type": "code",
   "execution_count": 55,
   "metadata": {},
   "outputs": [
    {
     "name": "stdout",
     "output_type": "stream",
     "text": [
      "<re.Match object; span=(7, 9), match='in'>\n"
     ]
    }
   ],
   "source": [
    "s = \"The train runs in the rain\"\n",
    "x = re.search(\"in\", s)\n",
    "print(x)"
   ]
  },
  {
   "cell_type": "markdown",
   "metadata": {},
   "source": [
    "#### Match object has the following methods:\n",
    "\n",
    "* span()\n",
    "* group()\n",
    "* start()\n",
    "* end()"
   ]
  },
  {
   "cell_type": "code",
   "execution_count": null,
   "metadata": {},
   "outputs": [],
   "source": [
    "x.span()"
   ]
  },
  {
   "cell_type": "code",
   "execution_count": null,
   "metadata": {},
   "outputs": [],
   "source": [
    "x.group()"
   ]
  },
  {
   "cell_type": "code",
   "execution_count": null,
   "metadata": {},
   "outputs": [],
   "source": [
    "x.start()"
   ]
  },
  {
   "cell_type": "code",
   "execution_count": null,
   "metadata": {},
   "outputs": [],
   "source": [
    "x.end()"
   ]
  },
  {
   "cell_type": "markdown",
   "metadata": {},
   "source": [
    "### split() - returns a list of strings split at each match"
   ]
  },
  {
   "cell_type": "code",
   "execution_count": 79,
   "metadata": {},
   "outputs": [
    {
     "name": "stdout",
     "output_type": "stream",
     "text": [
      "['The tr', 'n runs in the r', 'n']\n"
     ]
    }
   ],
   "source": [
    "s = \"The train runs in the rain\"\n",
    "x = re.split(\"ai\", s)\n",
    "print(x)"
   ]
  },
  {
   "cell_type": "code",
   "execution_count": 80,
   "metadata": {},
   "outputs": [
    {
     "name": "stdout",
     "output_type": "stream",
     "text": [
      "['The tr', 'n runs in the r', 'n']\n"
     ]
    }
   ],
   "source": [
    "x = re.split(\"ai\", s, 2)  # only first 2 occurence\n",
    "print(x)"
   ]
  },
  {
   "cell_type": "code",
   "execution_count": 78,
   "metadata": {},
   "outputs": [
    {
     "name": "stdout",
     "output_type": "stream",
     "text": [
      "['The ', ' runs in the ', '']\n"
     ]
    }
   ],
   "source": [
    "x = re.split(\"\\S+in\\S*\", s)\n",
    "print(x)"
   ]
  },
  {
   "cell_type": "markdown",
   "metadata": {},
   "source": [
    "### sub() - replaces one or more matches with a substitution string"
   ]
  },
  {
   "cell_type": "code",
   "execution_count": null,
   "metadata": {},
   "outputs": [],
   "source": [
    "s = \"The train runs in the rain\"\n",
    "x = re.sub(\"ai\", \"AI\", s)\n",
    "print(x)"
   ]
  },
  {
   "cell_type": "code",
   "execution_count": null,
   "metadata": {},
   "outputs": [],
   "source": [
    "x = re.subn(\"ai\", \"AI\", s)\n",
    "print(x)"
   ]
  },
  {
   "cell_type": "markdown",
   "metadata": {},
   "source": [
    "### More complicated example"
   ]
  },
  {
   "cell_type": "code",
   "execution_count": 42,
   "metadata": {},
   "outputs": [
    {
     "name": "stdout",
     "output_type": "stream",
     "text": [
      "['admin123@sjsu.edu', 'students.456@gmail.com']\n"
     ]
    }
   ],
   "source": [
    "s = \"From admin123@sjsu.edu to students.456@gmail.com\"\n",
    "\n",
    "y = re.findall('[a-zA-Z0-9]+@[a-zA-Z0-9]+\\.[a-zA-Z0-9]+', s)\n",
    "print(y)  "
   ]
  },
  {
   "cell_type": "code",
   "execution_count": 83,
   "metadata": {},
   "outputs": [
    {
     "name": "stdout",
     "output_type": "stream",
     "text": [
      "['admin123@sjsu.edu', 'students456@gmail.com']\n"
     ]
    }
   ],
   "source": [
    "y = re.findall('[a-zA-Z0-9]+@[a-zA-Z0-9.]+', s)\n",
    "print(y)"
   ]
  },
  {
   "cell_type": "markdown",
   "metadata": {},
   "source": [
    "### Example on searching a specific number pattern (i.e. phone number or SSN)"
   ]
  },
  {
   "cell_type": "code",
   "execution_count": 21,
   "metadata": {},
   "outputs": [
    {
     "name": "stdout",
     "output_type": "stream",
     "text": [
      "['408-123-4567', '123-45-6789']\n"
     ]
    }
   ],
   "source": [
    "s  = \"Hello my cell number is 408-123-4567 and my SSN is 123-45-6789\"\n",
    "y = re.findall('\\d+-\\d+-\\d+', s)\n",
    "print(y)"
   ]
  },
  {
   "cell_type": "code",
   "execution_count": 22,
   "metadata": {},
   "outputs": [
    {
     "name": "stdout",
     "output_type": "stream",
     "text": [
      "['408-123-4567']\n"
     ]
    }
   ],
   "source": [
    "y = re.findall('\\d{3}.\\d{3}.\\d{4}', s)  # find pattern ###-###-##### d{3} means 3 digits\n",
    "print(y)"
   ]
  },
  {
   "cell_type": "code",
   "execution_count": 23,
   "metadata": {},
   "outputs": [
    {
     "name": "stdout",
     "output_type": "stream",
     "text": [
      "['123-45-6789']\n"
     ]
    }
   ],
   "source": [
    "y = re.findall('\\d{3}.\\d{2}.\\d{4}', s)  # find pattern ###-##-####\n",
    "print(y)"
   ]
  },
  {
   "cell_type": "markdown",
   "metadata": {},
   "source": [
    "### Extracting part of a regex pattern"
   ]
  },
  {
   "cell_type": "code",
   "execution_count": 37,
   "metadata": {},
   "outputs": [
    {
     "name": "stdout",
     "output_type": "stream",
     "text": [
      "['sjsu', 'gmail']\n"
     ]
    }
   ],
   "source": [
    "s = \"From admin123@sjsu.edu to students456@gmail.com\"\n",
    "\n",
    "y = re.findall('@([^ ]*)\\.', s)\n",
    "print(y)"
   ]
  },
  {
   "cell_type": "code",
   "execution_count": 15,
   "metadata": {},
   "outputs": [
    {
     "name": "stdout",
     "output_type": "stream",
     "text": [
      "From admin123@abcde.edu to students456@abcde.com\n"
     ]
    }
   ],
   "source": [
    "y = re.sub('@([^ ]*)\\.', \"@abcde.\", s)\n",
    "print(y)"
   ]
  },
  {
   "cell_type": "markdown",
   "metadata": {},
   "source": [
    "### A more complicated search example"
   ]
  },
  {
   "cell_type": "code",
   "execution_count": 29,
   "metadata": {},
   "outputs": [
    {
     "name": "stdout",
     "output_type": "stream",
     "text": [
      "<re.Match object; span=(33, 44), match='November 28'>\n"
     ]
    }
   ],
   "source": [
    "m = re.search(\"([a-zA-Z]+) (\\d+)\", \"Thanksgiving Day this year is on November 28!\")\n",
    "print(m)"
   ]
  },
  {
   "cell_type": "code",
   "execution_count": 30,
   "metadata": {},
   "outputs": [
    {
     "data": {
      "text/plain": [
       "'November 28'"
      ]
     },
     "execution_count": 30,
     "metadata": {},
     "output_type": "execute_result"
    }
   ],
   "source": [
    "m.group()"
   ]
  },
  {
   "cell_type": "code",
   "execution_count": 31,
   "metadata": {},
   "outputs": [
    {
     "name": "stdout",
     "output_type": "stream",
     "text": [
      "November 28\n",
      "November\n",
      "28\n"
     ]
    }
   ],
   "source": [
    "print(m.group(0))\n",
    "print(m.group(1))\n",
    "print(m.group(2))"
   ]
  },
  {
   "cell_type": "code",
   "execution_count": 68,
   "metadata": {},
   "outputs": [
    {
     "name": "stdout",
     "output_type": "stream",
     "text": [
      "['is', 'is', 'is', 'is', 'is']\n"
     ]
    }
   ],
   "source": [
    "import re\n",
    "s = 'My name is Sukriti Mishra my Dream Big is this blishful'\n",
    "x = re.findall('is',s)\n",
    "print(x)"
   ]
  },
  {
   "cell_type": "code",
   "execution_count": 30,
   "metadata": {},
   "outputs": [
    {
     "name": "stdout",
     "output_type": "stream",
     "text": [
      "['My', 'my']\n"
     ]
    }
   ],
   "source": [
    "x= re.findall('[Mm]y',s)\n",
    "print(x)"
   ]
  },
  {
   "cell_type": "code",
   "execution_count": 66,
   "metadata": {},
   "outputs": [
    {
     "name": "stdout",
     "output_type": "stream",
     "text": [
      "['is', 'Mis', 'is', 'this', 'blis']\n"
     ]
    }
   ],
   "source": [
    "x = re.findall(\"\\S*is\", s)\n",
    "print(x)"
   ]
  },
  {
   "cell_type": "code",
   "execution_count": 70,
   "metadata": {},
   "outputs": [
    {
     "name": "stdout",
     "output_type": "stream",
     "text": [
      "['blishful']\n"
     ]
    }
   ],
   "source": [
    "x = re.findall(\"\\S+ul$\", s)\n",
    "print(x)"
   ]
  },
  {
   "cell_type": "code",
   "execution_count": 73,
   "metadata": {},
   "outputs": [
    {
     "name": "stdout",
     "output_type": "stream",
     "text": [
      "['blishful']\n"
     ]
    }
   ],
   "source": [
    "x = re.findall(\"\\S+ul\", s)\n",
    "print(x)"
   ]
  },
  {
   "cell_type": "code",
   "execution_count": 74,
   "metadata": {},
   "outputs": [
    {
     "name": "stdout",
     "output_type": "stream",
     "text": [
      "['Sukri']\n"
     ]
    }
   ],
   "source": [
    "x = re.findall(\"\\S+ri\", s)\n",
    "print(x)"
   ]
  },
  {
   "cell_type": "code",
   "execution_count": 75,
   "metadata": {},
   "outputs": [
    {
     "name": "stdout",
     "output_type": "stream",
     "text": [
      "['My name is Sukriti Mishra my Dream Big is this blis']\n"
     ]
    }
   ],
   "source": [
    "x = re.findall(\".*is\", s)\n",
    "print(x)"
   ]
  },
  {
   "cell_type": "code",
   "execution_count": 49,
   "metadata": {},
   "outputs": [
    {
     "name": "stdout",
     "output_type": "stream",
     "text": [
      "['My name is Sukriti Mishra my Dream Big my hobby']\n"
     ]
    }
   ],
   "source": [
    "x = re.findall(\".*is+.*by$\", s)\n",
    "print(x)"
   ]
  },
  {
   "cell_type": "code",
   "execution_count": 52,
   "metadata": {},
   "outputs": [
    {
     "name": "stdout",
     "output_type": "stream",
     "text": [
      "['My name is', ' Sukriti Mis', 'hra my Dream Big is', ' this', ' blis']\n"
     ]
    }
   ],
   "source": [
    "x = re.findall(\".*?is\", s)\n",
    "print(x)"
   ]
  },
  {
   "cell_type": "code",
   "execution_count": 54,
   "metadata": {},
   "outputs": [
    {
     "name": "stdout",
     "output_type": "stream",
     "text": [
      "<re.Match object; span=(8, 10), match='is'>\n"
     ]
    }
   ],
   "source": [
    "x = re.search('is', s)\n",
    "print(x)"
   ]
  },
  {
   "cell_type": "code",
   "execution_count": 56,
   "metadata": {},
   "outputs": [
    {
     "data": {
      "text/plain": [
       "(7, 9)"
      ]
     },
     "execution_count": 56,
     "metadata": {},
     "output_type": "execute_result"
    }
   ],
   "source": [
    "x.span()"
   ]
  },
  {
   "cell_type": "code",
   "execution_count": 57,
   "metadata": {},
   "outputs": [
    {
     "data": {
      "text/plain": [
       "'in'"
      ]
     },
     "execution_count": 57,
     "metadata": {},
     "output_type": "execute_result"
    }
   ],
   "source": [
    "x.group()\n"
   ]
  },
  {
   "cell_type": "code",
   "execution_count": 58,
   "metadata": {},
   "outputs": [
    {
     "data": {
      "text/plain": [
       "7"
      ]
     },
     "execution_count": 58,
     "metadata": {},
     "output_type": "execute_result"
    }
   ],
   "source": [
    "x.start()"
   ]
  },
  {
   "cell_type": "code",
   "execution_count": 59,
   "metadata": {},
   "outputs": [
    {
     "data": {
      "text/plain": [
       "9"
      ]
     },
     "execution_count": 59,
     "metadata": {},
     "output_type": "execute_result"
    }
   ],
   "source": [
    "x.end()"
   ]
  },
  {
   "cell_type": "code",
   "execution_count": 64,
   "metadata": {},
   "outputs": [
    {
     "name": "stdout",
     "output_type": "stream",
     "text": [
      "['My name ', ' Sukriti M', 'hra my Dream Big ', ' th', ' blishful']\n"
     ]
    }
   ],
   "source": [
    "x = re.split('is',s, 4)\n",
    "print(x)"
   ]
  },
  {
   "cell_type": "code",
   "execution_count": 4,
   "metadata": {},
   "outputs": [
    {
     "name": "stdout",
     "output_type": "stream",
     "text": [
      "Output: total 9928\n",
      "-rw-r--r--@ 1 sukritimishra  staff     5976 Oct 20 21:04 CSV.ipynb\n",
      "-rw-r--r--@ 1 sukritimishra  staff  1393460 Sep 11 15:26 DATA 200 Lecture 1.pdf\n",
      "-rw-r--r--@ 1 sukritimishra  staff   512871 Sep 11 15:26 DATA 200 Lecture 2.pdf\n",
      "-rw-r--r--@ 1 sukritimishra  staff   204862 Sep 21 10:16 DATA 200 Lecture 3+.pdf\n",
      "-rw-r--r--@ 1 sukritimishra  staff   651848 Sep 20 21:48 DATA 200 Lecture 3.pdf\n",
      "-rw-r--r--@ 1 sukritimishra  staff   229809 Oct 24 13:38 DATA 200 Lecture 6 (OOP).pdf\n",
      "-rw-r--r--@ 1 sukritimishra  staff     1671 Sep  7 00:45 DATA 200- PYTHON\n",
      "-rw-r--r--@ 1 sukritimishra  staff   163483 Sep  9 12:50 DATA200 HW1.pdf\n",
      "-rw-r--r--@ 1 sukritimishra  staff    78995 Sep 16 08:16 DATA200 HW2.pdf\n",
      "-rw-r--r--@ 1 sukritimishra  staff   114964 Sep 29 20:43 DATA200 HW3.pdf\n",
      "-rw-r--r--@ 1 sukritimishra  staff   108137 Oct 11 18:55 DATA200 HW4 (updated 2).pdf\n",
      "-rw-r--r--@ 1 sukritimishra  staff    82301 Oct 18 10:16 DATA200 HW5.pdf\n",
      "-rw-r--r--@ 1 sukritimishra  staff    90553 Oct 21 10:22 DATA200 HW6.pdf\n",
      "-rw-r--r--@ 1 sukritimishra  staff    32456 Oct 24 06:19 File & Directory Processing.ipynb\n",
      "-rw-r--r--@ 1 sukritimishra  staff    12956 Oct 23 17:21 HW3-2 Soln.ipynb\n",
      "-rw-r--r--@ 1 sukritimishra  staff     4419 Oct 23 17:20 HW4-2 Soln.ipynb\n",
      "-rw-r--r--@ 1 sukritimishra  staff    41930 Oct 24 15:20 JSON.ipynb\n",
      "-rw-r--r--@ 1 sukritimishra  staff    12730 Oct 25 05:08 Object-Oriented Programming.ipynb\n",
      "drwxr-xr-x  4 sukritimishra  staff      128 Sep 11 13:35 PycharmProjects\n",
      "-rw-r--r--@ 1 sukritimishra  staff    15750 Oct 25 21:44 Regular Expressions.ipynb\n",
      "-rw-r--r--  1 sukritimishra  staff     4036 Oct 24 04:26 Untitled.ipynb\n",
      "-rw-r--r--@ 1 sukritimishra  staff    20359 Oct 21 17:51 collections.ipynb\n",
      "-rw-r--r--@ 1 sukritimishra  staff   110655 Oct 24 16:47 datetime & calendar.ipynb\n",
      "-rw-r--r--@ 1 sukritimishra  staff      538 Oct 24 15:00 hw3-1.py\n",
      "-rw-r--r--  1 sukritimishra  staff    11459 Oct  4 19:31 hw3-2.ipynb\n",
      "-rw-r--r--@ 1 sukritimishra  staff      728 Oct 23 17:16 hw4-1.py\n",
      "-rw-r--r--@ 1 sukritimishra  staff      154 Sep 19 23:04 input.txt\n",
      "-rw-r--r--@ 1 sukritimishra  staff   214649 Oct 22 05:06 operator & itertools.ipynb\n",
      "-rw-r--r--  1 sukritimishra  staff      152 Oct 23 16:39 record.json\n",
      "-rw-r--r--@ 1 sukritimishra  staff      176 Oct 24 15:10 records.json\n",
      "-rw-r--r--  1 sukritimishra  staff       33 Oct 20 20:46 test2.csv\n",
      "-rw-r--r--@ 1 sukritimishra  staff   813892 Sep 28 21:39 thinkpython2.pdf\n",
      "-rw-r--r--@ 1 sukritimishra  staff    54046 Oct  4 12:35 urllib.ipynb\n",
      "-rw-r--r--@ 1 sukritimishra  staff      162 Oct 13 13:19 ~$bbyPrasad, Rashmi-Week06-Report.docx\n",
      "\n",
      "Error: \n",
      "code: 0\n"
     ]
    }
   ],
   "source": [
    "import subprocess\n",
    "cmd = ['ls', '-l']\n",
    "proc = subprocess.Popen(cmd, stdout=subprocess.PIPE, stderr=subprocess.PIPE)\n",
    "\n",
    "o, e = proc.communicate()\n",
    "\n",
    "print('Output: ' + o.decode('ascii'))\n",
    "print('Error: '  + e.decode('ascii'))\n",
    "print('code: ' + str(proc.returncode))"
   ]
  },
  {
   "cell_type": "code",
   "execution_count": 8,
   "metadata": {},
   "outputs": [
    {
     "name": "stdout",
     "output_type": "stream",
     "text": [
      "['2018']\n"
     ]
    }
   ],
   "source": [
    "time = re.split(':', '2018')\n",
    "print(time)"
   ]
  },
  {
   "cell_type": "code",
   "execution_count": 1,
   "metadata": {},
   "outputs": [],
   "source": [
    "import re"
   ]
  },
  {
   "cell_type": "code",
   "execution_count": 12,
   "metadata": {},
   "outputs": [
    {
     "name": "stdout",
     "output_type": "stream",
     "text": [
      "['python his', ' this', ' ris', 'k blis', 's in the kis']\n"
     ]
    }
   ],
   "source": [
    "s = 'python his this risk bliss in the kiss'\n",
    "x = re.findall(\".*?is\", s)\n",
    "print(x)\n"
   ]
  },
  {
   "cell_type": "code",
   "execution_count": 13,
   "metadata": {},
   "outputs": [
    {
     "name": "stdout",
     "output_type": "stream",
     "text": [
      "['python his this risk bliss in the kis']\n"
     ]
    }
   ],
   "source": [
    "x = re.findall(\".*is\", s)\n",
    "print(x)"
   ]
  },
  {
   "cell_type": "code",
   "execution_count": 29,
   "metadata": {},
   "outputs": [
    {
     "data": {
      "text/plain": [
       "['<h1>', '</h1>']"
      ]
     },
     "execution_count": 29,
     "metadata": {},
     "output_type": "execute_result"
    }
   ],
   "source": [
    "re.findall('<[/]?[a-z|0-9]*>', '<H1>HELLO, world</H1>'.lower())"
   ]
  },
  {
   "cell_type": "code",
   "execution_count": null,
   "metadata": {},
   "outputs": [],
   "source": []
  }
 ],
 "metadata": {
  "kernelspec": {
   "display_name": "Python 3",
   "language": "python",
   "name": "python3"
  },
  "language_info": {
   "codemirror_mode": {
    "name": "ipython",
    "version": 3
   },
   "file_extension": ".py",
   "mimetype": "text/x-python",
   "name": "python",
   "nbconvert_exporter": "python",
   "pygments_lexer": "ipython3",
   "version": "3.7.3"
  }
 },
 "nbformat": 4,
 "nbformat_minor": 4
}
