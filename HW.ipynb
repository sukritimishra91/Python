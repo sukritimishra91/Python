{
 "cells": [
  {
   "cell_type": "code",
   "execution_count": 4,
   "metadata": {},
   "outputs": [
    {
     "name": "stdout",
     "output_type": "stream",
     "text": [
      "[(1, 268930), (10, 264291), (19, 259670), (16, 259260), (3, 247731), (4, 245557), (12, 244725), (11, 242641), (17, 240784), (14, 240068), (13, 239583), (7, 236858), (15, 232904), (18, 230781), (2, 229114), (8, 229102), (5, 222669), (6, 222556), (9, 213781)]\n"
     ]
    }
   ],
   "source": [
    "#4-1\n",
    "import glob\n",
    "import json\n",
    "from collections import Counter\n",
    "\n",
    "json_files = glob.glob(\"input/*.json\")\n",
    "# tally = dict()\n",
    "tally = Counter()\n",
    "\n",
    "for json_file in json_files:\n",
    "    with open(json_file, \"r\") as jf:\n",
    "        json_dict = json.load(jf)\n",
    "        #print(json_dict)\n",
    "    # tally[json_dict['user']] = tally.get(json_dict['user'], 0) + json_dict['steps']\n",
    "    tally.update({json_dict['user'] : json_dict['steps']})\n",
    "\n",
    "# leaderboard = sorted(tally.items(), key=lambda x: x[1], reverse=True)\n",
    "# for item in leaderboard:\n",
    "#     print(item)\n",
    "\n",
    "print(tally.most_common())\n",
    "\n",
    "with open (\"leaderboard-4.csv\", \"w\") as f:\n",
    "    # for id, steps in leaderboard:\n",
    "    for id, steps in tally.most_common():\n",
    "        f.write(f\"{id},{steps}\\n\")"
   ]
  },
  {
   "cell_type": "code",
   "execution_count": null,
   "metadata": {},
   "outputs": [],
   "source": []
  }
 ],
 "metadata": {
  "kernelspec": {
   "display_name": "Python 3",
   "language": "python",
   "name": "python3"
  },
  "language_info": {
   "codemirror_mode": {
    "name": "ipython",
    "version": 3
   },
   "file_extension": ".py",
   "mimetype": "text/x-python",
   "name": "python",
   "nbconvert_exporter": "python",
   "pygments_lexer": "ipython3",
   "version": "3.7.3"
  }
 },
 "nbformat": 4,
 "nbformat_minor": 4
}
