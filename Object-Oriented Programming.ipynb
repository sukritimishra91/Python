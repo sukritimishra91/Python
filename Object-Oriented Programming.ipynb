{
 "cells": [
  {
   "cell_type": "markdown",
   "metadata": {},
   "source": [
    "# Classes & Objects"
   ]
  },
  {
   "cell_type": "markdown",
   "metadata": {},
   "source": [
    "### First python class"
   ]
  },
  {
   "cell_type": "code",
   "execution_count": 1,
   "metadata": {},
   "outputs": [],
   "source": [
    "class MyPythonClass:\n",
    "    name = \"Name Unknown\"\n",
    "\n",
    "    def print_name(self):\n",
    "        print(self.name)"
   ]
  },
  {
   "cell_type": "markdown",
   "metadata": {},
   "source": [
    "### can access class attributes directly"
   ]
  },
  {
   "cell_type": "code",
   "execution_count": 2,
   "metadata": {},
   "outputs": [
    {
     "name": "stdout",
     "output_type": "stream",
     "text": [
      "Name Unknown\n",
      "<function MyPythonClass.print_name at 0x1045eed08>\n"
     ]
    }
   ],
   "source": [
    "print(MyPythonClass.name)\n",
    "print(MyPythonClass.print_name)\n",
    "# object--class--level--global(scope)"
   ]
  },
  {
   "cell_type": "code",
   "execution_count": 3,
   "metadata": {},
   "outputs": [
    {
     "name": "stdout",
     "output_type": "stream",
     "text": [
      "Name Unknown\n"
     ]
    }
   ],
   "source": [
    "MyPythonClass().print_name()  # can run a class function directly"
   ]
  },
  {
   "cell_type": "code",
   "execution_count": 4,
   "metadata": {},
   "outputs": [
    {
     "name": "stdout",
     "output_type": "stream",
     "text": [
      "Manual\n"
     ]
    }
   ],
   "source": [
    "MyPythonClass.name = \"Manual\"\n",
    "print(MyPythonClass.name)"
   ]
  },
  {
   "cell_type": "markdown",
   "metadata": {},
   "source": [
    "### Instantiate a class object"
   ]
  },
  {
   "cell_type": "code",
   "execution_count": 5,
   "metadata": {},
   "outputs": [],
   "source": [
    "object1 = MyPythonClass()\n",
    "object2 = MyPythonClass()"
   ]
  },
  {
   "cell_type": "code",
   "execution_count": 6,
   "metadata": {},
   "outputs": [
    {
     "name": "stdout",
     "output_type": "stream",
     "text": [
      "Manual\n",
      "Manual\n"
     ]
    }
   ],
   "source": [
    "object1.print_name()\n",
    "object2.print_name()"
   ]
  },
  {
   "cell_type": "code",
   "execution_count": 7,
   "metadata": {},
   "outputs": [
    {
     "name": "stdout",
     "output_type": "stream",
     "text": [
      "Manual\n",
      "Manual\n"
     ]
    }
   ],
   "source": [
    "MyPythonClass.name = \"Manual\"\n",
    "object1.print_name()\n",
    "object2.print_name()"
   ]
  },
  {
   "cell_type": "code",
   "execution_count": 8,
   "metadata": {},
   "outputs": [],
   "source": [
    "object1.name = \"Alex\"   # create object attribute\n",
    "object2.name = \"Betty\"  # create object attribute"
   ]
  },
  {
   "cell_type": "code",
   "execution_count": 9,
   "metadata": {},
   "outputs": [
    {
     "name": "stdout",
     "output_type": "stream",
     "text": [
      "Alex\n",
      "Betty\n"
     ]
    }
   ],
   "source": [
    "object1.print_name()\n",
    "object2.print_name()"
   ]
  },
  {
   "cell_type": "code",
   "execution_count": 10,
   "metadata": {},
   "outputs": [
    {
     "name": "stdout",
     "output_type": "stream",
     "text": [
      "Alex\n",
      "Betty\n"
     ]
    }
   ],
   "source": [
    "MyPythonClass.name = \"Manual\"   # setting class attribute won't affect object attributes\n",
    "object1.print_name()\n",
    "object2.print_name()"
   ]
  },
  {
   "cell_type": "code",
   "execution_count": 11,
   "metadata": {},
   "outputs": [
    {
     "name": "stdout",
     "output_type": "stream",
     "text": [
      "Manual\n"
     ]
    }
   ],
   "source": [
    "object3 = MyPythonClass()\n",
    "object3.print_name()"
   ]
  },
  {
   "cell_type": "code",
   "execution_count": 12,
   "metadata": {},
   "outputs": [
    {
     "name": "stdout",
     "output_type": "stream",
     "text": [
      "Alex\n",
      "Betty\n",
      "Manual\n"
     ]
    }
   ],
   "source": [
    "object1.print_name()    # print object attribute\n",
    "object2.print_name()    # print object attribute\n",
    "object3.print_name()    # print class attribute"
   ]
  },
  {
   "cell_type": "code",
   "execution_count": 13,
   "metadata": {},
   "outputs": [
    {
     "name": "stdout",
     "output_type": "stream",
     "text": [
      "Alex\n",
      "Betty\n",
      "Manual2\n"
     ]
    }
   ],
   "source": [
    "MyPythonClass.name = \"Manual2\"\n",
    "object1.print_name()    # print object attribute\n",
    "object2.print_name()    # print object attribute\n",
    "object3.print_name()    # still print class attribute"
   ]
  },
  {
   "cell_type": "markdown",
   "metadata": {},
   "source": [
    "### Custom defined constructors"
   ]
  },
  {
   "cell_type": "code",
   "execution_count": 14,
   "metadata": {},
   "outputs": [],
   "source": [
    "class MyPythonClass:\n",
    "    name = \"Name Unknown\"\n",
    "\n",
    "    def __init__(self, name_=\"not specified\"):\n",
    "        self.name = name_\n",
    "\n",
    "    def print_name(self):\n",
    "        print(self.name)\n",
    "    def _str_(self):\n",
    "        return f\"My name is {self.name}\" "
   ]
  },
  {
   "cell_type": "code",
   "execution_count": 15,
   "metadata": {},
   "outputs": [],
   "source": [
    "object1 = MyPythonClass()\n",
    "object2 = MyPythonClass()"
   ]
  },
  {
   "cell_type": "code",
   "execution_count": 16,
   "metadata": {},
   "outputs": [
    {
     "name": "stdout",
     "output_type": "stream",
     "text": [
      "not specified\n",
      "not specified\n"
     ]
    }
   ],
   "source": [
    "object1.print_name()\n",
    "object2.print_name()"
   ]
  },
  {
   "cell_type": "code",
   "execution_count": 17,
   "metadata": {},
   "outputs": [
    {
     "name": "stdout",
     "output_type": "stream",
     "text": [
      "not specified\n",
      "Name Unknown\n"
     ]
    }
   ],
   "source": [
    "print(object1.name)\n",
    "print(MyPythonClass.name)"
   ]
  },
  {
   "cell_type": "code",
   "execution_count": 18,
   "metadata": {},
   "outputs": [
    {
     "name": "stdout",
     "output_type": "stream",
     "text": [
      "Name Unknown\n",
      "not specified\n"
     ]
    }
   ],
   "source": [
    "del(object1.name)\n",
    "object1.print_name()\n",
    "object2.print_name()"
   ]
  },
  {
   "cell_type": "markdown",
   "metadata": {},
   "source": [
    "### Additional member functions"
   ]
  },
  {
   "cell_type": "code",
   "execution_count": 19,
   "metadata": {},
   "outputs": [],
   "source": [
    "class MyPythonClass:\n",
    "    name = \"Name Unknown\"\n",
    "\n",
    "    def __init__(self, name_=\"not specified\"):\n",
    "        self.name = name_\n",
    "\n",
    "    def print_name(self):\n",
    "        print(self.name)\n",
    "        \n",
    "    def set_name(self, name_):\n",
    "        self.name = name_"
   ]
  },
  {
   "cell_type": "code",
   "execution_count": 20,
   "metadata": {},
   "outputs": [
    {
     "name": "stdout",
     "output_type": "stream",
     "text": [
      "not specified\n",
      "not specified\n"
     ]
    }
   ],
   "source": [
    "object1 = MyPythonClass()\n",
    "object2 = MyPythonClass()\n",
    "\n",
    "object1.print_name()\n",
    "object2.print_name()"
   ]
  },
  {
   "cell_type": "code",
   "execution_count": 21,
   "metadata": {},
   "outputs": [
    {
     "name": "stdout",
     "output_type": "stream",
     "text": [
      "great class\n",
      "not specified\n"
     ]
    }
   ],
   "source": [
    "object1.set_name(\"great class\")\n",
    "\n",
    "object1.print_name()\n",
    "object2.print_name()"
   ]
  },
  {
   "cell_type": "markdown",
   "metadata": {},
   "source": [
    "### More class examples"
   ]
  },
  {
   "cell_type": "code",
   "execution_count": 22,
   "metadata": {},
   "outputs": [],
   "source": [
    "class Dog:\n",
    "\n",
    "    kind = 'Canine'       # class variable shared by all instances\n",
    "\n",
    "    def __init__(self, name):\n",
    "        self.name = name  # instance variable unique to each instance"
   ]
  },
  {
   "cell_type": "code",
   "execution_count": 23,
   "metadata": {},
   "outputs": [],
   "source": [
    "a = Dog('Astro')\n",
    "b = Dog('Buddy')"
   ]
  },
  {
   "cell_type": "code",
   "execution_count": 24,
   "metadata": {},
   "outputs": [
    {
     "name": "stdout",
     "output_type": "stream",
     "text": [
      "Canine\n",
      "Canine\n",
      "Astro\n",
      "Buddy\n",
      "premolar\n"
     ]
    }
   ],
   "source": [
    "print(a.kind)    # 'Canine' (class variable - shared by all dogs)\n",
    "print(b.kind)    # 'Canine' (class variable - shared by all dogs)\n",
    "print(a.name)    # 'Astro'  (object variable - unique to a)\n",
    "print(b.name)    # 'Buddy'  (object variable - unique to b)\n",
    "a.kind = 'premolar'\n",
    "print(a.kind)"
   ]
  },
  {
   "cell_type": "markdown",
   "metadata": {},
   "source": [
    "### More complicated class variables"
   ]
  },
  {
   "cell_type": "code",
   "execution_count": 1,
   "metadata": {},
   "outputs": [],
   "source": [
    "class Dog2:\n",
    "    \n",
    "    tricks = []\n",
    "\n",
    "    def __init__(self, name):\n",
    "        self.name = name\n",
    "        \n",
    "    def teach_trick(self, trick):\n",
    "        self.tricks.append(trick)"
   ]
  },
  {
   "cell_type": "code",
   "execution_count": 2,
   "metadata": {},
   "outputs": [],
   "source": [
    "d = Dog2('Fido')\n",
    "e = Dog2('Buddy')\n",
    "\n",
    "d.teach_trick('roll over')\n",
    "e.teach_trick('come here')"
   ]
  },
  {
   "cell_type": "code",
   "execution_count": 3,
   "metadata": {},
   "outputs": [
    {
     "data": {
      "text/plain": [
       "['roll over', 'come here']"
      ]
     },
     "execution_count": 3,
     "metadata": {},
     "output_type": "execute_result"
    }
   ],
   "source": [
    "d.tricks"
   ]
  },
  {
   "cell_type": "code",
   "execution_count": 28,
   "metadata": {},
   "outputs": [],
   "source": [
    "class Dog3:\n",
    "    \n",
    "    # Let's try an object variable with default argument!\n",
    "    def __init__(self, name='Mr. B', tricks=[]):\n",
    "        self.name = name\n",
    "        self.tricks = tricks\n",
    "    \n",
    "    def teach_trick(self, trick):\n",
    "        self.tricks.append(trick)"
   ]
  },
  {
   "cell_type": "code",
   "execution_count": 29,
   "metadata": {},
   "outputs": [],
   "source": [
    "f = Dog3('Fido')\n",
    "g = Dog3('Buddy')\n",
    "\n",
    "f.teach_trick('roll over')\n",
    "g.teach_trick('come here')"
   ]
  },
  {
   "cell_type": "code",
   "execution_count": 30,
   "metadata": {},
   "outputs": [],
   "source": [
    "class Dog4:\n",
    "\n",
    "    def __init__(self, name):\n",
    "        self.name = name\n",
    "        self.tricks = [] # New list for each dog\n",
    "        \n",
    "    def teach_trick(self, trick):\n",
    "        self.tricks.append(trick)"
   ]
  },
  {
   "cell_type": "code",
   "execution_count": 31,
   "metadata": {},
   "outputs": [],
   "source": [
    "h = Dog4('Fido')\n",
    "i = Dog4('Buddy')\n",
    "\n",
    "h.teach_trick('roll over')\n",
    "i.teach_trick('come here')"
   ]
  },
  {
   "cell_type": "code",
   "execution_count": 32,
   "metadata": {},
   "outputs": [
    {
     "name": "stdout",
     "output_type": "stream",
     "text": [
      "['roll over']\n",
      "['come here']\n"
     ]
    }
   ],
   "source": [
    "print(h.tricks)\n",
    "print(i.tricks)"
   ]
  },
  {
   "cell_type": "code",
   "execution_count": 33,
   "metadata": {},
   "outputs": [
    {
     "name": "stdout",
     "output_type": "stream",
     "text": [
      "<__main__.Dog4 object at 0x10464ac88>\n"
     ]
    }
   ],
   "source": [
    "print(h)"
   ]
  },
  {
   "cell_type": "markdown",
   "metadata": {},
   "source": [
    "### String representation of class"
   ]
  },
  {
   "cell_type": "code",
   "execution_count": 34,
   "metadata": {},
   "outputs": [],
   "source": [
    "class Dog5:\n",
    "\n",
    "    def __init__(self, name):\n",
    "        self.name = name\n",
    "        self.tricks = [] # New list for each dog\n",
    "        \n",
    "    def teach_trick(self, trick):\n",
    "        self.tricks.append(trick)\n",
    "    \n",
    "    # string representation of class/object\n",
    "    def __str__(self):\n",
    "        return f\"I'm a dog named {self.name} and can do this trick - {self.tricks}\""
   ]
  },
  {
   "cell_type": "code",
   "execution_count": 37,
   "metadata": {},
   "outputs": [
    {
     "name": "stdout",
     "output_type": "stream",
     "text": [
      "I'm a dog named Josh and can do this trick - ['jump hoops']\n"
     ]
    }
   ],
   "source": [
    "j = Dog5(\"Josh\")\n",
    "\n",
    "j.teach_trick('jump hoops')\n",
    "print(j)"
   ]
  },
  {
   "cell_type": "code",
   "execution_count": 36,
   "metadata": {},
   "outputs": [],
   "source": [
    "class Person:\n",
    "    def __init__(self,fname,lname):\n",
    "        self.firstname = fname\n",
    "        self.lastname = lname\n",
    "        \n",
    "        \n",
    "    def printname(self):\n",
    "        print(self.firstname, self.lastname)"
   ]
  },
  {
   "cell_type": "code",
   "execution_count": 18,
   "metadata": {},
   "outputs": [
    {
     "name": "stdout",
     "output_type": "stream",
     "text": [
      "Alan Wong\n"
     ]
    }
   ],
   "source": [
    "alan = Person('Alan', 'Wong')\n",
    "alan.printname()"
   ]
  },
  {
   "cell_type": "code",
   "execution_count": 33,
   "metadata": {},
   "outputs": [],
   "source": [
    "class Student(Person):\n",
    "    def __init__(self, fname, lname, sid):\n",
    "        super().__init__(fname, lname)\n",
    "        self.student_id = sid\n",
    "        \n",
    "    def printinfo(self):\n",
    "        print(self.firstname, self.lastname, self.student.id)\n",
    "        \n",
    "    def printname(self):\n",
    "        print(self.firstname, self.lastname, self.student_id)   "
   ]
  },
  {
   "cell_type": "code",
   "execution_count": 34,
   "metadata": {},
   "outputs": [
    {
     "name": "stdout",
     "output_type": "stream",
     "text": [
      "Mary li 12345\n"
     ]
    }
   ],
   "source": [
    "mary = Student('Mary', 'li', 12345)\n",
    "mary.printname()\n",
    "#mary.printinfo()"
   ]
  },
  {
   "cell_type": "code",
   "execution_count": 35,
   "metadata": {},
   "outputs": [
    {
     "name": "stdout",
     "output_type": "stream",
     "text": [
      "Mary li 12345\n",
      "Alan Wong\n"
     ]
    }
   ],
   "source": [
    "records = [mary, alan]\n",
    "for rec in records:\n",
    "    rec.printname()\n",
    "    "
   ]
  },
  {
   "cell_type": "code",
   "execution_count": null,
   "metadata": {},
   "outputs": [],
   "source": []
  }
 ],
 "metadata": {
  "kernelspec": {
   "display_name": "Python 3",
   "language": "python",
   "name": "python3"
  },
  "language_info": {
   "codemirror_mode": {
    "name": "ipython",
    "version": 3
   },
   "file_extension": ".py",
   "mimetype": "text/x-python",
   "name": "python",
   "nbconvert_exporter": "python",
   "pygments_lexer": "ipython3",
   "version": "3.7.3"
  }
 },
 "nbformat": 4,
 "nbformat_minor": 4
}
