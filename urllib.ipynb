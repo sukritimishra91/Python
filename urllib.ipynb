{
 "cells": [
  {
   "cell_type": "markdown",
   "metadata": {},
   "source": [
    "# urllib standard library   <a href=\"https://docs.python.org/3.7/library/urllib.html\">python doc</a>"
   ]
  },
  {
   "cell_type": "markdown",
   "metadata": {},
   "source": [
    "This library contains different modules for working with URLs.  We will mainly focus on using the request submodule to access web resources:\n",
    "\n",
    "<b>urllib.request</b>"
   ]
  },
  {
   "cell_type": "code",
   "execution_count": 1,
   "metadata": {},
   "outputs": [],
   "source": [
    "import urllib"
   ]
  },
  {
   "cell_type": "markdown",
   "metadata": {},
   "source": [
    "### Open a URL"
   ]
  },
  {
   "cell_type": "code",
   "execution_count": 2,
   "metadata": {},
   "outputs": [],
   "source": [
    "response = urllib.request.urlopen(\"https://www.metaweather.com/api/location/2487956/\")"
   ]
  },
  {
   "cell_type": "code",
   "execution_count": 3,
   "metadata": {},
   "outputs": [
    {
     "name": "stdout",
     "output_type": "stream",
     "text": [
      "<http.client.HTTPResponse object at 0x10c82feb8>\n"
     ]
    }
   ],
   "source": [
    "print(response)"
   ]
  },
  {
   "cell_type": "markdown",
   "metadata": {},
   "source": [
    "### Get response data from URL"
   ]
  },
  {
   "cell_type": "code",
   "execution_count": 4,
   "metadata": {},
   "outputs": [],
   "source": [
    "data = response.read()"
   ]
  },
  {
   "cell_type": "code",
   "execution_count": 5,
   "metadata": {},
   "outputs": [
    {
     "name": "stdout",
     "output_type": "stream",
     "text": [
      "<class 'bytes'>\n"
     ]
    }
   ],
   "source": [
    "print(type(data))"
   ]
  },
  {
   "cell_type": "code",
   "execution_count": 6,
   "metadata": {},
   "outputs": [
    {
     "name": "stdout",
     "output_type": "stream",
     "text": [
      "b'{\"consolidated_weather\":[{\"id\":4871750238076928,\"weather_state_name\":\"Heavy Cloud\",\"weather_state_abbr\":\"hc\",\"wind_direction_compass\":\"WNW\",\"created\":\"2019-09-28T18:14:17.827800Z\",\"applicable_date\":\"2019-09-28\",\"min_temp\":10.745000000000001,\"max_temp\":20.62,\"the_temp\":20.5,\"wind_speed\":12.529469862385005,\"wind_direction\":299.87372492833583,\"air_pressure\":1012.63,\"humidity\":71,\"visibility\":16.291731289270658,\"predictability\":71},{\"id\":5083510161276928,\"weather_state_name\":\"Showers\",\"weather_state_abbr\":\"s\",\"wind_direction_compass\":\"W\",\"created\":\"2019-09-28T18:14:20.971893Z\",\"applicable_date\":\"2019-09-29\",\"min_temp\":10.575,\"max_temp\":17.075,\"the_temp\":16.905,\"wind_speed\":8.628870410074498,\"wind_direction\":266.2737131166196,\"air_pressure\":1013.89,\"humidity\":69,\"visibility\":15.908655949256342,\"predictability\":73},{\"id\":4670599320305664,\"weather_state_name\":\"Heavy Cloud\",\"weather_state_abbr\":\"hc\",\"wind_direction_compass\":\"NW\",\"created\":\"2019-09-28T18:14:23.846442Z\",\"applicable_date\":\"2019-09-30\",\"min_temp\":10.530000000000001,\"max_temp\":16.97,\"the_temp\":15.445,\"wind_speed\":5.931380704220685,\"wind_direction\":304.13672028823663,\"air_pressure\":1015.155,\"humidity\":73,\"visibility\":15.852732541954982,\"predictability\":71},{\"id\":4637589476737024,\"weather_state_name\":\"Heavy Cloud\",\"weather_state_abbr\":\"hc\",\"wind_direction_compass\":\"W\",\"created\":\"2019-09-28T18:14:26.811331Z\",\"applicable_date\":\"2019-10-01\",\"min_temp\":10.739999999999998,\"max_temp\":17.665,\"the_temp\":17.735,\"wind_speed\":5.140847714695512,\"wind_direction\":265.67306324180566,\"air_pressure\":1013.6700000000001,\"humidity\":67,\"visibility\":16.455773284021316,\"predictability\":71},{\"id\":6512624894214144,\"weather_state_name\":\"Heavy Cloud\",\"weather_state_abbr\":\"hc\",\"wind_direction_compass\":\"WSW\",\"created\":\"2019-09-28T18:14:30.046721Z\",\"applicable_date\":\"2019-10-02\",\"min_temp\":10.940000000000001,\"max_temp\":18.52,\"the_temp\":18.185,\"wind_speed\":3.9048481948248885,\"wind_direction\":256.019174513553,\"air_pressure\":1015.225,\"humidity\":70,\"visibility\":15.091552831464249,\"predictability\":71},{\"id\":4683037545594880,\"weather_state_name\":\"Showers\",\"weather_state_abbr\":\"s\",\"wind_direction_compass\":\"SSW\",\"created\":\"2019-09-28T18:14:34.189678Z\",\"applicable_date\":\"2019-10-03\",\"min_temp\":11.76,\"max_temp\":18.27,\"the_temp\":12.75,\"wind_speed\":2.826562673983934,\"wind_direction\":198.0,\"air_pressure\":1015.85,\"humidity\":83,\"visibility\":9.999726596675416,\"predictability\":73}],\"time\":\"2019-09-28T12:33:02.112360-07:00\",\"sun_rise\":\"2019-09-28T07:02:31.798609-07:00\",\"sun_set\":\"2019-09-28T18:59:01.250221-07:00\",\"timezone_name\":\"LMT\",\"parent\":{\"title\":\"California\",\"location_type\":\"Region / State / Province\",\"woeid\":2347563,\"latt_long\":\"37.271881,-119.270233\"},\"sources\":[{\"title\":\"BBC\",\"slug\":\"bbc\",\"url\":\"http://www.bbc.co.uk/weather/\",\"crawl_rate\":360},{\"title\":\"Forecast.io\",\"slug\":\"forecast-io\",\"url\":\"http://forecast.io/\",\"crawl_rate\":480},{\"title\":\"HAMweather\",\"slug\":\"hamweather\",\"url\":\"http://www.hamweather.com/\",\"crawl_rate\":360},{\"title\":\"Met Office\",\"slug\":\"met-office\",\"url\":\"http://www.metoffice.gov.uk/\",\"crawl_rate\":180},{\"title\":\"OpenWeatherMap\",\"slug\":\"openweathermap\",\"url\":\"http://openweathermap.org/\",\"crawl_rate\":360},{\"title\":\"Weather Underground\",\"slug\":\"wunderground\",\"url\":\"https://www.wunderground.com/?apiref=fc30dc3cd224e19b\",\"crawl_rate\":720},{\"title\":\"World Weather Online\",\"slug\":\"world-weather-online\",\"url\":\"http://www.worldweatheronline.com/\",\"crawl_rate\":360}],\"title\":\"San Francisco\",\"location_type\":\"City\",\"woeid\":2487956,\"latt_long\":\"37.777119, -122.41964\",\"timezone\":\"US/Pacific\"}'\n"
     ]
    }
   ],
   "source": [
    "print(data)"
   ]
  },
  {
   "cell_type": "markdown",
   "metadata": {},
   "source": [
    "### Convert byte string to ASCII string"
   ]
  },
  {
   "cell_type": "code",
   "execution_count": 7,
   "metadata": {},
   "outputs": [],
   "source": [
    "data_str = data.decode(\"utf-8\") "
   ]
  },
  {
   "cell_type": "code",
   "execution_count": 8,
   "metadata": {},
   "outputs": [
    {
     "name": "stdout",
     "output_type": "stream",
     "text": [
      "<class 'str'>\n"
     ]
    }
   ],
   "source": [
    "print(type(data_str))"
   ]
  },
  {
   "cell_type": "code",
   "execution_count": 9,
   "metadata": {},
   "outputs": [
    {
     "name": "stdout",
     "output_type": "stream",
     "text": [
      "{\"consolidated_weather\":[{\"id\":4871750238076928,\"weather_state_name\":\"Heavy Cloud\",\"weather_state_abbr\":\"hc\",\"wind_direction_compass\":\"WNW\",\"created\":\"2019-09-28T18:14:17.827800Z\",\"applicable_date\":\"2019-09-28\",\"min_temp\":10.745000000000001,\"max_temp\":20.62,\"the_temp\":20.5,\"wind_speed\":12.529469862385005,\"wind_direction\":299.87372492833583,\"air_pressure\":1012.63,\"humidity\":71,\"visibility\":16.291731289270658,\"predictability\":71},{\"id\":5083510161276928,\"weather_state_name\":\"Showers\",\"weather_state_abbr\":\"s\",\"wind_direction_compass\":\"W\",\"created\":\"2019-09-28T18:14:20.971893Z\",\"applicable_date\":\"2019-09-29\",\"min_temp\":10.575,\"max_temp\":17.075,\"the_temp\":16.905,\"wind_speed\":8.628870410074498,\"wind_direction\":266.2737131166196,\"air_pressure\":1013.89,\"humidity\":69,\"visibility\":15.908655949256342,\"predictability\":73},{\"id\":4670599320305664,\"weather_state_name\":\"Heavy Cloud\",\"weather_state_abbr\":\"hc\",\"wind_direction_compass\":\"NW\",\"created\":\"2019-09-28T18:14:23.846442Z\",\"applicable_date\":\"2019-09-30\",\"min_temp\":10.530000000000001,\"max_temp\":16.97,\"the_temp\":15.445,\"wind_speed\":5.931380704220685,\"wind_direction\":304.13672028823663,\"air_pressure\":1015.155,\"humidity\":73,\"visibility\":15.852732541954982,\"predictability\":71},{\"id\":4637589476737024,\"weather_state_name\":\"Heavy Cloud\",\"weather_state_abbr\":\"hc\",\"wind_direction_compass\":\"W\",\"created\":\"2019-09-28T18:14:26.811331Z\",\"applicable_date\":\"2019-10-01\",\"min_temp\":10.739999999999998,\"max_temp\":17.665,\"the_temp\":17.735,\"wind_speed\":5.140847714695512,\"wind_direction\":265.67306324180566,\"air_pressure\":1013.6700000000001,\"humidity\":67,\"visibility\":16.455773284021316,\"predictability\":71},{\"id\":6512624894214144,\"weather_state_name\":\"Heavy Cloud\",\"weather_state_abbr\":\"hc\",\"wind_direction_compass\":\"WSW\",\"created\":\"2019-09-28T18:14:30.046721Z\",\"applicable_date\":\"2019-10-02\",\"min_temp\":10.940000000000001,\"max_temp\":18.52,\"the_temp\":18.185,\"wind_speed\":3.9048481948248885,\"wind_direction\":256.019174513553,\"air_pressure\":1015.225,\"humidity\":70,\"visibility\":15.091552831464249,\"predictability\":71},{\"id\":4683037545594880,\"weather_state_name\":\"Showers\",\"weather_state_abbr\":\"s\",\"wind_direction_compass\":\"SSW\",\"created\":\"2019-09-28T18:14:34.189678Z\",\"applicable_date\":\"2019-10-03\",\"min_temp\":11.76,\"max_temp\":18.27,\"the_temp\":12.75,\"wind_speed\":2.826562673983934,\"wind_direction\":198.0,\"air_pressure\":1015.85,\"humidity\":83,\"visibility\":9.999726596675416,\"predictability\":73}],\"time\":\"2019-09-28T12:33:02.112360-07:00\",\"sun_rise\":\"2019-09-28T07:02:31.798609-07:00\",\"sun_set\":\"2019-09-28T18:59:01.250221-07:00\",\"timezone_name\":\"LMT\",\"parent\":{\"title\":\"California\",\"location_type\":\"Region / State / Province\",\"woeid\":2347563,\"latt_long\":\"37.271881,-119.270233\"},\"sources\":[{\"title\":\"BBC\",\"slug\":\"bbc\",\"url\":\"http://www.bbc.co.uk/weather/\",\"crawl_rate\":360},{\"title\":\"Forecast.io\",\"slug\":\"forecast-io\",\"url\":\"http://forecast.io/\",\"crawl_rate\":480},{\"title\":\"HAMweather\",\"slug\":\"hamweather\",\"url\":\"http://www.hamweather.com/\",\"crawl_rate\":360},{\"title\":\"Met Office\",\"slug\":\"met-office\",\"url\":\"http://www.metoffice.gov.uk/\",\"crawl_rate\":180},{\"title\":\"OpenWeatherMap\",\"slug\":\"openweathermap\",\"url\":\"http://openweathermap.org/\",\"crawl_rate\":360},{\"title\":\"Weather Underground\",\"slug\":\"wunderground\",\"url\":\"https://www.wunderground.com/?apiref=fc30dc3cd224e19b\",\"crawl_rate\":720},{\"title\":\"World Weather Online\",\"slug\":\"world-weather-online\",\"url\":\"http://www.worldweatheronline.com/\",\"crawl_rate\":360}],\"title\":\"San Francisco\",\"location_type\":\"City\",\"woeid\":2487956,\"latt_long\":\"37.777119, -122.41964\",\"timezone\":\"US/Pacific\"}\n"
     ]
    }
   ],
   "source": [
    "print(data_str)"
   ]
  },
  {
   "cell_type": "markdown",
   "metadata": {},
   "source": [
    "### Convert (json string) data to dictionary"
   ]
  },
  {
   "cell_type": "code",
   "execution_count": 10,
   "metadata": {},
   "outputs": [],
   "source": [
    "import json\n",
    "\n",
    "json_dict = json.loads(data_str)"
   ]
  },
  {
   "cell_type": "code",
   "execution_count": 11,
   "metadata": {},
   "outputs": [
    {
     "name": "stdout",
     "output_type": "stream",
     "text": [
      "<class 'dict'>\n"
     ]
    }
   ],
   "source": [
    "print(type(json_dict))"
   ]
  },
  {
   "cell_type": "code",
   "execution_count": 12,
   "metadata": {},
   "outputs": [
    {
     "name": "stdout",
     "output_type": "stream",
     "text": [
      "{'consolidated_weather': [{'id': 4871750238076928, 'weather_state_name': 'Heavy Cloud', 'weather_state_abbr': 'hc', 'wind_direction_compass': 'WNW', 'created': '2019-09-28T18:14:17.827800Z', 'applicable_date': '2019-09-28', 'min_temp': 10.745000000000001, 'max_temp': 20.62, 'the_temp': 20.5, 'wind_speed': 12.529469862385005, 'wind_direction': 299.87372492833583, 'air_pressure': 1012.63, 'humidity': 71, 'visibility': 16.291731289270658, 'predictability': 71}, {'id': 5083510161276928, 'weather_state_name': 'Showers', 'weather_state_abbr': 's', 'wind_direction_compass': 'W', 'created': '2019-09-28T18:14:20.971893Z', 'applicable_date': '2019-09-29', 'min_temp': 10.575, 'max_temp': 17.075, 'the_temp': 16.905, 'wind_speed': 8.628870410074498, 'wind_direction': 266.2737131166196, 'air_pressure': 1013.89, 'humidity': 69, 'visibility': 15.908655949256342, 'predictability': 73}, {'id': 4670599320305664, 'weather_state_name': 'Heavy Cloud', 'weather_state_abbr': 'hc', 'wind_direction_compass': 'NW', 'created': '2019-09-28T18:14:23.846442Z', 'applicable_date': '2019-09-30', 'min_temp': 10.530000000000001, 'max_temp': 16.97, 'the_temp': 15.445, 'wind_speed': 5.931380704220685, 'wind_direction': 304.13672028823663, 'air_pressure': 1015.155, 'humidity': 73, 'visibility': 15.852732541954982, 'predictability': 71}, {'id': 4637589476737024, 'weather_state_name': 'Heavy Cloud', 'weather_state_abbr': 'hc', 'wind_direction_compass': 'W', 'created': '2019-09-28T18:14:26.811331Z', 'applicable_date': '2019-10-01', 'min_temp': 10.739999999999998, 'max_temp': 17.665, 'the_temp': 17.735, 'wind_speed': 5.140847714695512, 'wind_direction': 265.67306324180566, 'air_pressure': 1013.6700000000001, 'humidity': 67, 'visibility': 16.455773284021316, 'predictability': 71}, {'id': 6512624894214144, 'weather_state_name': 'Heavy Cloud', 'weather_state_abbr': 'hc', 'wind_direction_compass': 'WSW', 'created': '2019-09-28T18:14:30.046721Z', 'applicable_date': '2019-10-02', 'min_temp': 10.940000000000001, 'max_temp': 18.52, 'the_temp': 18.185, 'wind_speed': 3.9048481948248885, 'wind_direction': 256.019174513553, 'air_pressure': 1015.225, 'humidity': 70, 'visibility': 15.091552831464249, 'predictability': 71}, {'id': 4683037545594880, 'weather_state_name': 'Showers', 'weather_state_abbr': 's', 'wind_direction_compass': 'SSW', 'created': '2019-09-28T18:14:34.189678Z', 'applicable_date': '2019-10-03', 'min_temp': 11.76, 'max_temp': 18.27, 'the_temp': 12.75, 'wind_speed': 2.826562673983934, 'wind_direction': 198.0, 'air_pressure': 1015.85, 'humidity': 83, 'visibility': 9.999726596675416, 'predictability': 73}], 'time': '2019-09-28T12:33:02.112360-07:00', 'sun_rise': '2019-09-28T07:02:31.798609-07:00', 'sun_set': '2019-09-28T18:59:01.250221-07:00', 'timezone_name': 'LMT', 'parent': {'title': 'California', 'location_type': 'Region / State / Province', 'woeid': 2347563, 'latt_long': '37.271881,-119.270233'}, 'sources': [{'title': 'BBC', 'slug': 'bbc', 'url': 'http://www.bbc.co.uk/weather/', 'crawl_rate': 360}, {'title': 'Forecast.io', 'slug': 'forecast-io', 'url': 'http://forecast.io/', 'crawl_rate': 480}, {'title': 'HAMweather', 'slug': 'hamweather', 'url': 'http://www.hamweather.com/', 'crawl_rate': 360}, {'title': 'Met Office', 'slug': 'met-office', 'url': 'http://www.metoffice.gov.uk/', 'crawl_rate': 180}, {'title': 'OpenWeatherMap', 'slug': 'openweathermap', 'url': 'http://openweathermap.org/', 'crawl_rate': 360}, {'title': 'Weather Underground', 'slug': 'wunderground', 'url': 'https://www.wunderground.com/?apiref=fc30dc3cd224e19b', 'crawl_rate': 720}, {'title': 'World Weather Online', 'slug': 'world-weather-online', 'url': 'http://www.worldweatheronline.com/', 'crawl_rate': 360}], 'title': 'San Francisco', 'location_type': 'City', 'woeid': 2487956, 'latt_long': '37.777119, -122.41964', 'timezone': 'US/Pacific'}\n"
     ]
    }
   ],
   "source": [
    "print(json_dict)"
   ]
  },
  {
   "cell_type": "code",
   "execution_count": null,
   "metadata": {},
   "outputs": [],
   "source": [
    "# for keys in json_dict:\n",
    "#     print(keys)\n",
    "\n",
    "consolidated_weather = json_dict['consolidated_weather']\n",
    "print(len(consolidated_weather))\n",
    "print(consolidated_weather[0])\n",
    "print(consolidated_weather[-1])"
   ]
  },
  {
   "cell_type": "markdown",
   "metadata": {},
   "source": [
    "### (Optional) Use json.dumps() to format json output"
   ]
  },
  {
   "cell_type": "code",
   "execution_count": null,
   "metadata": {},
   "outputs": [],
   "source": [
    "json2_str = json.dumps(json_dict, indent=4)\n",
    "print(type(json2_str))"
   ]
  },
  {
   "cell_type": "code",
   "execution_count": null,
   "metadata": {},
   "outputs": [],
   "source": [
    "print(json2_str)"
   ]
  },
  {
   "cell_type": "markdown",
   "metadata": {},
   "source": [
    "### One more example"
   ]
  },
  {
   "cell_type": "code",
   "execution_count": null,
   "metadata": {},
   "outputs": [],
   "source": [
    "response2 = urllib.request.urlopen(\"https://www.metaweather.com/api/location/2487956/2019/9/28\")"
   ]
  },
  {
   "cell_type": "code",
   "execution_count": null,
   "metadata": {},
   "outputs": [],
   "source": [
    "data = response2.read()"
   ]
  },
  {
   "cell_type": "code",
   "execution_count": null,
   "metadata": {},
   "outputs": [],
   "source": [
    "print(data)"
   ]
  },
  {
   "cell_type": "code",
   "execution_count": null,
   "metadata": {},
   "outputs": [],
   "source": [
    "weather_dict = json.loads(data.decode(\"utf-8\"))"
   ]
  },
  {
   "cell_type": "code",
   "execution_count": null,
   "metadata": {},
   "outputs": [],
   "source": [
    "print(weather_dict)"
   ]
  },
  {
   "cell_type": "code",
   "execution_count": null,
   "metadata": {},
   "outputs": [],
   "source": [
    "for entry in weather_dict:\n",
    "    print(f\"{entry['created']}: {entry['the_temp']}\")"
   ]
  }
 ],
 "metadata": {
  "kernelspec": {
   "display_name": "Python 3",
   "language": "python",
   "name": "python3"
  },
  "language_info": {
   "codemirror_mode": {
    "name": "ipython",
    "version": 3
   },
   "file_extension": ".py",
   "mimetype": "text/x-python",
   "name": "python",
   "nbconvert_exporter": "python",
   "pygments_lexer": "ipython3",
   "version": "3.7.6"
  }
 },
 "nbformat": 4,
 "nbformat_minor": 4
}
