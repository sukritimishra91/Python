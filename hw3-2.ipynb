{
 "cells": [
  {
   "cell_type": "code",
   "execution_count": 12,
   "metadata": {},
   "outputs": [],
   "source": [
    "import urllib"
   ]
  },
  {
   "cell_type": "code",
   "execution_count": 13,
   "metadata": {},
   "outputs": [],
   "source": [
    "response = urllib.request.urlopen(\"https://www.metaweather.com/api/location/2487956/\")"
   ]
  },
  {
   "cell_type": "code",
   "execution_count": 14,
   "metadata": {},
   "outputs": [
    {
     "name": "stdout",
     "output_type": "stream",
     "text": [
      "<http.client.HTTPResponse object at 0x10545a1d0>\n"
     ]
    }
   ],
   "source": [
    "print(response)"
   ]
  },
  {
   "cell_type": "code",
   "execution_count": 15,
   "metadata": {},
   "outputs": [],
   "source": [
    "data = response.read()"
   ]
  },
  {
   "cell_type": "code",
   "execution_count": 17,
   "metadata": {},
   "outputs": [
    {
     "name": "stdout",
     "output_type": "stream",
     "text": [
      "b'{\"consolidated_weather\":[{\"id\":6375362705489920,\"weather_state_name\":\"Heavy Cloud\",\"weather_state_abbr\":\"hc\",\"wind_direction_compass\":\"NW\",\"created\":\"2019-10-04T15:14:16.933231Z\",\"applicable_date\":\"2019-10-04\",\"min_temp\":10.41,\"max_temp\":21.18,\"the_temp\":21.04,\"wind_speed\":5.381684576741165,\"wind_direction\":307.99359638654346,\"air_pressure\":1018.7,\"humidity\":56,\"visibility\":17.054464427741983,\"predictability\":71},{\"id\":4942152318582784,\"weather_state_name\":\"Heavy Cloud\",\"weather_state_abbr\":\"hc\",\"wind_direction_compass\":\"WSW\",\"created\":\"2019-10-04T15:14:19.822746Z\",\"applicable_date\":\"2019-10-05\",\"min_temp\":10.36,\"max_temp\":20.15,\"the_temp\":20.475,\"wind_speed\":3.274465988016649,\"wind_direction\":242.58595754146876,\"air_pressure\":1017.2149999999999,\"humidity\":56,\"visibility\":16.673563886900503,\"predictability\":71},{\"id\":5551450472054784,\"weather_state_name\":\"Heavy Cloud\",\"weather_state_abbr\":\"hc\",\"wind_direction_compass\":\"NE\",\"created\":\"2019-10-04T15:14:23.117648Z\",\"applicable_date\":\"2019-10-06\",\"min_temp\":11.934999999999999,\"max_temp\":20.275,\"the_temp\":21.185,\"wind_speed\":2.8839085707335825,\"wind_direction\":45.93627725495373,\"air_pressure\":1015.815,\"humidity\":51,\"visibility\":18.06450330072377,\"predictability\":71},{\"id\":5688802184003584,\"weather_state_name\":\"Heavy Cloud\",\"weather_state_abbr\":\"hc\",\"wind_direction_compass\":\"WSW\",\"created\":\"2019-10-04T15:14:25.726351Z\",\"applicable_date\":\"2019-10-07\",\"min_temp\":11.629999999999999,\"max_temp\":20.775,\"the_temp\":19.669999999999998,\"wind_speed\":2.7924061163896177,\"wind_direction\":240.6691202074192,\"air_pressure\":1015.355,\"humidity\":63,\"visibility\":16.524124115167425,\"predictability\":71},{\"id\":5515186385453056,\"weather_state_name\":\"Heavy Cloud\",\"weather_state_abbr\":\"hc\",\"wind_direction_compass\":\"SW\",\"created\":\"2019-10-04T15:14:28.808966Z\",\"applicable_date\":\"2019-10-08\",\"min_temp\":11.879999999999999,\"max_temp\":18.265,\"the_temp\":17.23,\"wind_speed\":4.3558813393409155,\"wind_direction\":232.16563166450896,\"air_pressure\":1014.115,\"humidity\":74,\"visibility\":16.013046309552216,\"predictability\":71},{\"id\":6532470730129408,\"weather_state_name\":\"Showers\",\"weather_state_abbr\":\"s\",\"wind_direction_compass\":\"SW\",\"created\":\"2019-10-04T15:14:31.748860Z\",\"applicable_date\":\"2019-10-09\",\"min_temp\":10.9,\"max_temp\":17.305,\"the_temp\":14.05,\"wind_speed\":4.185256303189374,\"wind_direction\":217.49999999999997,\"air_pressure\":1013.66,\"humidity\":76,\"visibility\":9.999726596675416,\"predictability\":73}],\"time\":\"2019-10-04T10:10:05.382996-07:00\",\"sun_rise\":\"2019-10-04T07:07:49.457797-07:00\",\"sun_set\":\"2019-10-04T18:49:51.187868-07:00\",\"timezone_name\":\"LMT\",\"parent\":{\"title\":\"California\",\"location_type\":\"Region / State / Province\",\"woeid\":2347563,\"latt_long\":\"37.271881,-119.270233\"},\"sources\":[{\"title\":\"BBC\",\"slug\":\"bbc\",\"url\":\"http://www.bbc.co.uk/weather/\",\"crawl_rate\":360},{\"title\":\"Forecast.io\",\"slug\":\"forecast-io\",\"url\":\"http://forecast.io/\",\"crawl_rate\":480},{\"title\":\"HAMweather\",\"slug\":\"hamweather\",\"url\":\"http://www.hamweather.com/\",\"crawl_rate\":360},{\"title\":\"Met Office\",\"slug\":\"met-office\",\"url\":\"http://www.metoffice.gov.uk/\",\"crawl_rate\":180},{\"title\":\"OpenWeatherMap\",\"slug\":\"openweathermap\",\"url\":\"http://openweathermap.org/\",\"crawl_rate\":360},{\"title\":\"Weather Underground\",\"slug\":\"wunderground\",\"url\":\"https://www.wunderground.com/?apiref=fc30dc3cd224e19b\",\"crawl_rate\":720},{\"title\":\"World Weather Online\",\"slug\":\"world-weather-online\",\"url\":\"http://www.worldweatheronline.com/\",\"crawl_rate\":360}],\"title\":\"San Francisco\",\"location_type\":\"City\",\"woeid\":2487956,\"latt_long\":\"37.777119, -122.41964\",\"timezone\":\"US/Pacific\"}'\n"
     ]
    }
   ],
   "source": [
    "print(data)"
   ]
  },
  {
   "cell_type": "code",
   "execution_count": 19,
   "metadata": {},
   "outputs": [],
   "source": [
    "data_str = data.decode(\"utf-8\") "
   ]
  },
  {
   "cell_type": "code",
   "execution_count": 20,
   "metadata": {},
   "outputs": [
    {
     "name": "stdout",
     "output_type": "stream",
     "text": [
      "<class 'str'>\n"
     ]
    }
   ],
   "source": [
    "print(type(data_str))"
   ]
  },
  {
   "cell_type": "code",
   "execution_count": 21,
   "metadata": {},
   "outputs": [
    {
     "name": "stdout",
     "output_type": "stream",
     "text": [
      "{\"consolidated_weather\":[{\"id\":6375362705489920,\"weather_state_name\":\"Heavy Cloud\",\"weather_state_abbr\":\"hc\",\"wind_direction_compass\":\"NW\",\"created\":\"2019-10-04T15:14:16.933231Z\",\"applicable_date\":\"2019-10-04\",\"min_temp\":10.41,\"max_temp\":21.18,\"the_temp\":21.04,\"wind_speed\":5.381684576741165,\"wind_direction\":307.99359638654346,\"air_pressure\":1018.7,\"humidity\":56,\"visibility\":17.054464427741983,\"predictability\":71},{\"id\":4942152318582784,\"weather_state_name\":\"Heavy Cloud\",\"weather_state_abbr\":\"hc\",\"wind_direction_compass\":\"WSW\",\"created\":\"2019-10-04T15:14:19.822746Z\",\"applicable_date\":\"2019-10-05\",\"min_temp\":10.36,\"max_temp\":20.15,\"the_temp\":20.475,\"wind_speed\":3.274465988016649,\"wind_direction\":242.58595754146876,\"air_pressure\":1017.2149999999999,\"humidity\":56,\"visibility\":16.673563886900503,\"predictability\":71},{\"id\":5551450472054784,\"weather_state_name\":\"Heavy Cloud\",\"weather_state_abbr\":\"hc\",\"wind_direction_compass\":\"NE\",\"created\":\"2019-10-04T15:14:23.117648Z\",\"applicable_date\":\"2019-10-06\",\"min_temp\":11.934999999999999,\"max_temp\":20.275,\"the_temp\":21.185,\"wind_speed\":2.8839085707335825,\"wind_direction\":45.93627725495373,\"air_pressure\":1015.815,\"humidity\":51,\"visibility\":18.06450330072377,\"predictability\":71},{\"id\":5688802184003584,\"weather_state_name\":\"Heavy Cloud\",\"weather_state_abbr\":\"hc\",\"wind_direction_compass\":\"WSW\",\"created\":\"2019-10-04T15:14:25.726351Z\",\"applicable_date\":\"2019-10-07\",\"min_temp\":11.629999999999999,\"max_temp\":20.775,\"the_temp\":19.669999999999998,\"wind_speed\":2.7924061163896177,\"wind_direction\":240.6691202074192,\"air_pressure\":1015.355,\"humidity\":63,\"visibility\":16.524124115167425,\"predictability\":71},{\"id\":5515186385453056,\"weather_state_name\":\"Heavy Cloud\",\"weather_state_abbr\":\"hc\",\"wind_direction_compass\":\"SW\",\"created\":\"2019-10-04T15:14:28.808966Z\",\"applicable_date\":\"2019-10-08\",\"min_temp\":11.879999999999999,\"max_temp\":18.265,\"the_temp\":17.23,\"wind_speed\":4.3558813393409155,\"wind_direction\":232.16563166450896,\"air_pressure\":1014.115,\"humidity\":74,\"visibility\":16.013046309552216,\"predictability\":71},{\"id\":6532470730129408,\"weather_state_name\":\"Showers\",\"weather_state_abbr\":\"s\",\"wind_direction_compass\":\"SW\",\"created\":\"2019-10-04T15:14:31.748860Z\",\"applicable_date\":\"2019-10-09\",\"min_temp\":10.9,\"max_temp\":17.305,\"the_temp\":14.05,\"wind_speed\":4.185256303189374,\"wind_direction\":217.49999999999997,\"air_pressure\":1013.66,\"humidity\":76,\"visibility\":9.999726596675416,\"predictability\":73}],\"time\":\"2019-10-04T10:10:05.382996-07:00\",\"sun_rise\":\"2019-10-04T07:07:49.457797-07:00\",\"sun_set\":\"2019-10-04T18:49:51.187868-07:00\",\"timezone_name\":\"LMT\",\"parent\":{\"title\":\"California\",\"location_type\":\"Region / State / Province\",\"woeid\":2347563,\"latt_long\":\"37.271881,-119.270233\"},\"sources\":[{\"title\":\"BBC\",\"slug\":\"bbc\",\"url\":\"http://www.bbc.co.uk/weather/\",\"crawl_rate\":360},{\"title\":\"Forecast.io\",\"slug\":\"forecast-io\",\"url\":\"http://forecast.io/\",\"crawl_rate\":480},{\"title\":\"HAMweather\",\"slug\":\"hamweather\",\"url\":\"http://www.hamweather.com/\",\"crawl_rate\":360},{\"title\":\"Met Office\",\"slug\":\"met-office\",\"url\":\"http://www.metoffice.gov.uk/\",\"crawl_rate\":180},{\"title\":\"OpenWeatherMap\",\"slug\":\"openweathermap\",\"url\":\"http://openweathermap.org/\",\"crawl_rate\":360},{\"title\":\"Weather Underground\",\"slug\":\"wunderground\",\"url\":\"https://www.wunderground.com/?apiref=fc30dc3cd224e19b\",\"crawl_rate\":720},{\"title\":\"World Weather Online\",\"slug\":\"world-weather-online\",\"url\":\"http://www.worldweatheronline.com/\",\"crawl_rate\":360}],\"title\":\"San Francisco\",\"location_type\":\"City\",\"woeid\":2487956,\"latt_long\":\"37.777119, -122.41964\",\"timezone\":\"US/Pacific\"}\n"
     ]
    }
   ],
   "source": [
    "print(data_str)"
   ]
  },
  {
   "cell_type": "code",
   "execution_count": 41,
   "metadata": {},
   "outputs": [
    {
     "name": "stdout",
     "output_type": "stream",
     "text": [
      "<Response [200]>\n"
     ]
    }
   ],
   "source": [
    "import requests\n",
    "api_url = ('http://www.metaweather.com/api/location/2487956/')\n",
    "result = requests.get(api_url)\n",
    "result = requests.get(api_url)#('created, applicable_date, the_temp'))\n",
    "print (result)\n",
    "\n",
    "\n"
   ]
  },
  {
   "cell_type": "code",
   "execution_count": 46,
   "metadata": {},
   "outputs": [
    {
     "ename": "SyntaxError",
     "evalue": "invalid syntax (<ipython-input-46-2f229d81acb8>, line 2)",
     "output_type": "error",
     "traceback": [
      "\u001b[0;36m  File \u001b[0;32m\"<ipython-input-46-2f229d81acb8>\"\u001b[0;36m, line \u001b[0;32m2\u001b[0m\n\u001b[0;31m    for( i=1;i<=30;i++){\u001b[0m\n\u001b[0m          ^\u001b[0m\n\u001b[0;31mSyntaxError\u001b[0m\u001b[0;31m:\u001b[0m invalid syntax\n"
     ]
    }
   ],
   "source": [
    "res = [];\n",
    "for(i=1;i<=30;i++){\n",
    "\n",
    " url= \"https://www.metaweather.com/api/location/2487956/2019//\"+i\n",
    "\n",
    "console.log(url)\n",
    "\n",
    "}\n",
    "print()"
   ]
  },
  {
   "cell_type": "code",
   "execution_count": null,
   "metadata": {},
   "outputs": [],
   "source": []
  }
 ],
 "metadata": {
  "kernelspec": {
   "display_name": "Python 3",
   "language": "python",
   "name": "python3"
  },
  "language_info": {
   "codemirror_mode": {
    "name": "ipython",
    "version": 3
   },
   "file_extension": ".py",
   "mimetype": "text/x-python",
   "name": "python",
   "nbconvert_exporter": "python",
   "pygments_lexer": "ipython3",
   "version": "3.7.3"
  }
 },
 "nbformat": 4,
 "nbformat_minor": 4
}
