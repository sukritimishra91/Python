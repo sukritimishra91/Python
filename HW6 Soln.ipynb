{
 "cells": [
  {
   "cell_type": "markdown",
   "metadata": {},
   "source": [
    "### HW#6-1"
   ]
  },
  {
   "cell_type": "code",
   "execution_count": null,
   "metadata": {},
   "outputs": [],
   "source": [
    "class MyQueue:\n",
    "    \n",
    "    def __init__(self):\n",
    "        print(\"MyQueue object created!!!\")\n",
    "        self.items = []\n",
    "        \n",
    "    def is_empty(self):\n",
    "        return len(self.items) == 0\n",
    "    \n",
    "    def queue(self, item):\n",
    "        self.items.append(item)\n",
    "        \n",
    "    def dequeue(self):\n",
    "        return self.items.pop(0)\n",
    "    \n",
    "    def print_queue(self):\n",
    "        print(self.items)"
   ]
  },
  {
   "cell_type": "code",
   "execution_count": null,
   "metadata": {},
   "outputs": [],
   "source": [
    "q1 = MyQueue()\n",
    "q2 = MyQueue()"
   ]
  },
  {
   "cell_type": "code",
   "execution_count": null,
   "metadata": {},
   "outputs": [],
   "source": [
    "q1.queue(1)\n",
    "q1.queue(2)\n",
    "q1.queue(3)"
   ]
  },
  {
   "cell_type": "code",
   "execution_count": null,
   "metadata": {},
   "outputs": [],
   "source": [
    "q1.print_queue()\n",
    "q2.print_queue()"
   ]
  },
  {
   "cell_type": "code",
   "execution_count": null,
   "metadata": {},
   "outputs": [],
   "source": [
    "q1.dequeue()"
   ]
  },
  {
   "cell_type": "code",
   "execution_count": null,
   "metadata": {},
   "outputs": [],
   "source": [
    "q2.queue(0)"
   ]
  },
  {
   "cell_type": "code",
   "execution_count": null,
   "metadata": {},
   "outputs": [],
   "source": [
    "q1.print_queue()\n",
    "q2.print_queue()"
   ]
  },
  {
   "cell_type": "markdown",
   "metadata": {},
   "source": [
    "### HW#6-2"
   ]
  },
  {
   "cell_type": "code",
   "execution_count": null,
   "metadata": {},
   "outputs": [],
   "source": [
    "import re\n",
    "from datetime import datetime\n",
    "\n",
    "def extract_info(line):\n",
    "    m = re.search(\"(\\d+) ([a-zA-Z]{3}\\s+\\d+\\s+[\\d:]+) ([\\w .]+$)\", line)\n",
    "    ds = m.group(2)\n",
    "\n",
    "    # add code to handle both missing year and no time information\n",
    "    if ds.find(\":\") != -1: \n",
    "        file_datetime = datetime.strptime(ds, '%b %d %H:%M').replace(year=datetime.now().year) # default to current year\n",
    "    else:\n",
    "        file_datetime = datetime.strptime(ds, '%b %d %Y')\n",
    "\n",
    "    # returns filesize, datetime obj, filename\n",
    "    return int(m.group(1)), file_datetime, m.group(3)  "
   ]
  },
  {
   "cell_type": "code",
   "execution_count": null,
   "metadata": {},
   "outputs": [],
   "source": [
    "\n",
    "input = [\n",
    "\"-rwxrwxrwx 1 user user 163483 Sep  8 2018 DATA200 HW1.pdf\",\n",
    "\"-rwxrwxrwx 1 user user 78995 Sep 15 23:03 DATA200 HW2.pdf\",\n",
    "\"-rwxrwxrwx 1 user user 114964 Sep 29 02:10 DATA200 HW3.pdf\",\n",
    "\"-rwxrwxrwx 1 user user 108137 Oct  7 23:00 DATA200 HW4.pdf\",\n",
    "\"-rwxrwxrwx 1 user user 82301 Oct 13 17:13 DATA200 HW5.pdf\"\n",
    "]\n",
    "\n",
    "total_size = 0\n",
    "earliest, latest = datetime.max, datetime.min\n",
    "# earliest_file, latest_file = \"\", \"\"   <--- actually don't need to predefine these\n",
    "\n",
    "for line in input:\n",
    "    file_size, file_datetime, file_name = extract_info(line)\n",
    "    total_size += file_size\n",
    "    \n",
    "    if file_datetime < earliest:\n",
    "        earliest, earliest_file = file_datetime, file_name\n",
    "        \n",
    "    if file_datetime > latest:\n",
    "        latest, latest_file = file_datetime, file_name\n",
    "\n",
    "\n",
    "print(f\"\\nTotal size: {total_size}\")\n",
    "print(f\"Earliest file: {earliest_file} ({earliest})\")\n",
    "print(f\"Latest   file: {latest_file} ({latest})\")"
   ]
  }
 ],
 "metadata": {
  "kernelspec": {
   "display_name": "Python 3",
   "language": "python",
   "name": "python3"
  },
  "language_info": {
   "codemirror_mode": {
    "name": "ipython",
    "version": 3
   },
   "file_extension": ".py",
   "mimetype": "text/x-python",
   "name": "python",
   "nbconvert_exporter": "python",
   "pygments_lexer": "ipython3",
   "version": "3.7.3"
  }
 },
 "nbformat": 4,
 "nbformat_minor": 4
}
