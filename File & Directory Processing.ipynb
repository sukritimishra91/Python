{
 "cells": [
  {
   "cell_type": "markdown",
   "metadata": {},
   "source": [
    "# os standard library   <a href=\"https://docs.python.org/3.7/library/os.html\">python doc</a>"
   ]
  },
  {
   "cell_type": "code",
   "execution_count": 42,
   "metadata": {},
   "outputs": [],
   "source": [
    "import os"
   ]
  },
  {
   "cell_type": "markdown",
   "metadata": {},
   "source": [
    "### get user login"
   ]
  },
  {
   "cell_type": "code",
   "execution_count": 56,
   "metadata": {},
   "outputs": [
    {
     "data": {
      "text/plain": [
       "'sukritimishra'"
      ]
     },
     "execution_count": 56,
     "metadata": {},
     "output_type": "execute_result"
    }
   ],
   "source": [
    "os.getlogin()"
   ]
  },
  {
   "cell_type": "markdown",
   "metadata": {},
   "source": [
    "### get current directory"
   ]
  },
  {
   "cell_type": "code",
   "execution_count": 55,
   "metadata": {},
   "outputs": [
    {
     "data": {
      "text/plain": [
       "'/Users/sukritimishra'"
      ]
     },
     "execution_count": 55,
     "metadata": {},
     "output_type": "execute_result"
    }
   ],
   "source": [
    "#os.getcwd()\n",
    "\n",
    "os.path.abspath('/Users/sukritimishra/sjsu/DATA-200')\n",
    "os.getcwd()"
   ]
  },
  {
   "cell_type": "markdown",
   "metadata": {},
   "source": [
    "### change directory"
   ]
  },
  {
   "cell_type": "code",
   "execution_count": 57,
   "metadata": {},
   "outputs": [
    {
     "data": {
      "text/plain": [
       "'/Users/sukritimishra/sjsu/DATA-200'"
      ]
     },
     "execution_count": 57,
     "metadata": {},
     "output_type": "execute_result"
    }
   ],
   "source": [
    "os.chdir(\"/Users/sukritimishra/sjsu/DATA-200\")\n",
    "os.getcwd()"
   ]
  },
  {
   "cell_type": "markdown",
   "metadata": {},
   "source": [
    "### list directory"
   ]
  },
  {
   "cell_type": "code",
   "execution_count": 22,
   "metadata": {},
   "outputs": [
    {
     "data": {
      "text/plain": [
       "['big data technologies',\n",
       " '.DS_Store',\n",
       " 'Class 4 Homework Assignment - Part2_Puraswani_013755391.ipynb',\n",
       " 'DBMS',\n",
       " 'Maths Methods',\n",
       " 'PycharmProjects',\n",
       " 'DATA-200']"
      ]
     },
     "execution_count": 22,
     "metadata": {},
     "output_type": "execute_result"
    }
   ],
   "source": [
    "os.listdir(\".\")"
   ]
  },
  {
   "cell_type": "markdown",
   "metadata": {},
   "source": [
    "### main os.path utilities\n",
    "* os.path.exists()\n",
    "* os.path.isfile()\n",
    "* os.path.isdir()\n",
    "* os.path.join(*arg)"
   ]
  },
  {
   "cell_type": "code",
   "execution_count": 6,
   "metadata": {},
   "outputs": [
    {
     "name": "stdout",
     "output_type": "stream",
     "text": [
      "True\n",
      "False\n"
     ]
    }
   ],
   "source": [
    "print(os.path.exists(\".\"))\n",
    "print(os.path.exists(\"/home/eduardo\"))"
   ]
  },
  {
   "cell_type": "markdown",
   "metadata": {},
   "source": [
    "### check if pathname refers to an existing directory"
   ]
  },
  {
   "cell_type": "code",
   "execution_count": 7,
   "metadata": {},
   "outputs": [
    {
     "data": {
      "text/plain": [
       "False"
      ]
     },
     "execution_count": 7,
     "metadata": {},
     "output_type": "execute_result"
    }
   ],
   "source": [
    "os.path.isdir(\"hw3-2.ipynb\")"
   ]
  },
  {
   "cell_type": "markdown",
   "metadata": {},
   "source": [
    "### check if pathname refers to an existing file"
   ]
  },
  {
   "cell_type": "code",
   "execution_count": 17,
   "metadata": {},
   "outputs": [
    {
     "data": {
      "text/plain": [
       "'/Users/sukriti/sjsu/data200'"
      ]
     },
     "execution_count": 17,
     "metadata": {},
     "output_type": "execute_result"
    }
   ],
   "source": [
    "#os.path.isfile(\"hw3-2.ipynb\")\n",
    "os.path.join(\"C:\", os.sep, \"Users\", \"sukriti\",'sjsu','data200')"
   ]
  },
  {
   "cell_type": "markdown",
   "metadata": {},
   "source": [
    "### join one or more path components together"
   ]
  },
  {
   "cell_type": "code",
   "execution_count": 16,
   "metadata": {},
   "outputs": [
    {
     "data": {
      "text/plain": [
       "'/Users/eduardo'"
      ]
     },
     "execution_count": 16,
     "metadata": {},
     "output_type": "execute_result"
    }
   ],
   "source": [
    "os.path.join(\"C:\", os.sep, \"Users\", \"eduardo\")"
   ]
  },
  {
   "cell_type": "code",
   "execution_count": 18,
   "metadata": {},
   "outputs": [
    {
     "name": "stdout",
     "output_type": "stream",
     "text": [
      "/\n"
     ]
    }
   ],
   "source": [
    "print(os.sep)"
   ]
  },
  {
   "cell_type": "markdown",
   "metadata": {},
   "source": [
    "### get size in bytes of pathname"
   ]
  },
  {
   "cell_type": "code",
   "execution_count": 58,
   "metadata": {},
   "outputs": [
    {
     "data": {
      "text/plain": [
       "39516"
      ]
     },
     "execution_count": 58,
     "metadata": {},
     "output_type": "execute_result"
    }
   ],
   "source": [
    "os.path.getsize(\"JSON.ipynb\")\n"
   ]
  },
  {
   "cell_type": "code",
   "execution_count": 28,
   "metadata": {},
   "outputs": [
    {
     "data": {
      "text/plain": [
       "['__all__',\n",
       " '__builtins__',\n",
       " '__cached__',\n",
       " '__doc__',\n",
       " '__file__',\n",
       " '__loader__',\n",
       " '__name__',\n",
       " '__package__',\n",
       " '__spec__',\n",
       " '_get_sep',\n",
       " '_joinrealpath',\n",
       " '_varprog',\n",
       " '_varprogb',\n",
       " 'abspath',\n",
       " 'altsep',\n",
       " 'basename',\n",
       " 'commonpath',\n",
       " 'commonprefix',\n",
       " 'curdir',\n",
       " 'defpath',\n",
       " 'devnull',\n",
       " 'dirname',\n",
       " 'exists',\n",
       " 'expanduser',\n",
       " 'expandvars',\n",
       " 'extsep',\n",
       " 'genericpath',\n",
       " 'getatime',\n",
       " 'getctime',\n",
       " 'getmtime',\n",
       " 'getsize',\n",
       " 'isabs',\n",
       " 'isdir',\n",
       " 'isfile',\n",
       " 'islink',\n",
       " 'ismount',\n",
       " 'join',\n",
       " 'lexists',\n",
       " 'normcase',\n",
       " 'normpath',\n",
       " 'os',\n",
       " 'pardir',\n",
       " 'pathsep',\n",
       " 'realpath',\n",
       " 'relpath',\n",
       " 'samefile',\n",
       " 'sameopenfile',\n",
       " 'samestat',\n",
       " 'sep',\n",
       " 'split',\n",
       " 'splitdrive',\n",
       " 'splitext',\n",
       " 'stat',\n",
       " 'supports_unicode_filenames',\n",
       " 'sys']"
      ]
     },
     "execution_count": 28,
     "metadata": {},
     "output_type": "execute_result"
    }
   ],
   "source": [
    "dir(os.path)"
   ]
  },
  {
   "cell_type": "markdown",
   "metadata": {},
   "source": [
    "### split a file path"
   ]
  },
  {
   "cell_type": "code",
   "execution_count": 29,
   "metadata": {},
   "outputs": [
    {
     "data": {
      "text/plain": [
       "('C:/User/eduardo.EGROUP/Dropbox', 'DATA200 Fall 2019')"
      ]
     },
     "execution_count": 29,
     "metadata": {},
     "output_type": "execute_result"
    }
   ],
   "source": [
    "os.path.split(\"C:/User/eduardo.EGROUP/Dropbox/DATA200 Fall 2019\")"
   ]
  },
  {
   "cell_type": "code",
   "execution_count": 30,
   "metadata": {},
   "outputs": [
    {
     "ename": "SyntaxError",
     "evalue": "(unicode error) 'unicodeescape' codec can't decode bytes in position 2-3: truncated \\UXXXXXXXX escape (<ipython-input-30-9b5e41cc1349>, line 1)",
     "output_type": "error",
     "traceback": [
      "\u001b[0;36m  File \u001b[0;32m\"<ipython-input-30-9b5e41cc1349>\"\u001b[0;36m, line \u001b[0;32m1\u001b[0m\n\u001b[0;31m    os.path.split(\"C:\\Users\\eduardo.EGROUP\\Dropbox\\DATA200 Fall 2019\")\u001b[0m\n\u001b[0m                 ^\u001b[0m\n\u001b[0;31mSyntaxError\u001b[0m\u001b[0;31m:\u001b[0m (unicode error) 'unicodeescape' codec can't decode bytes in position 2-3: truncated \\UXXXXXXXX escape\n"
     ]
    }
   ],
   "source": [
    "os.path.split(\"C:\\Users\\eduardo.EGROUP\\Dropbox\\DATA200 Fall 2019\")"
   ]
  },
  {
   "cell_type": "markdown",
   "metadata": {},
   "source": [
    "### list files in pathname"
   ]
  },
  {
   "cell_type": "code",
   "execution_count": 31,
   "metadata": {},
   "outputs": [
    {
     "data": {
      "text/plain": [
       "['big data technologies',\n",
       " '.DS_Store',\n",
       " 'Class 4 Homework Assignment - Part2_Puraswani_013755391.ipynb',\n",
       " 'DBMS',\n",
       " 'Maths Methods',\n",
       " 'PycharmProjects',\n",
       " 'DATA-200']"
      ]
     },
     "execution_count": 31,
     "metadata": {},
     "output_type": "execute_result"
    }
   ],
   "source": [
    "os.listdir(\"/Users/sukritimishra/sjsu\")"
   ]
  },
  {
   "cell_type": "markdown",
   "metadata": {},
   "source": [
    "### traverse thru the current directory"
   ]
  },
  {
   "cell_type": "code",
   "execution_count": 59,
   "metadata": {},
   "outputs": [
    {
     "name": "stdout",
     "output_type": "stream",
     "text": [
      "/Users/sukritimishra/sjsu\n",
      "['big data technologies', 'DBMS', 'Maths Methods', 'PycharmProjects', 'DATA-200']\n",
      "['.DS_Store', 'Class 4 Homework Assignment - Part2_Puraswani_013755391.ipynb']\n",
      "\n",
      "\n",
      "\n",
      "/Users/sukritimishra/sjsu/big data technologies\n",
      "['week00Screenshots', 'Week01Screenshots', '.ipynb_checkpoints']\n",
      "['QUIZ.docx', 'Sukriti,Mishra-Week05-Report.docx', 'Sukriti,Mishra-Week00-Report copy.docx', 'L05 Your Mini-Project.docx', '00 Orientation & Introduction to Big Data.pptx', '.DS_Store', 'L01 Hadoop Labs, v15.docx', '02x Containerization.pptx', 'Sampling distribution_uniform(1).ipynb', 'Sukriti,Mishra-week-06-Report.docx', 'Sukriti,Mishra-Week00-Report.docx', 'QUIZ2.docx', '06 Role & Work of the Data Scientist.pptx', 'Sukriti,Mishra-Week03-Report.docx', 'INFO_208_HadoopQuiz-Mishra.Sukriti .docx', 'Sampling distribution_exponential.ipynb', '02 MapReduce & YARN.pptx', 'Big Data & Analytics Glossary v1.docx', 'Z01 Data is Everything.pptx', 'Mysecond_notebook.ipynb', 'L01 Hadoop Labs, v13.docx', 'INFO 208 Quiz #1 Hadoop -- Template.docx', 'Sukriti,Mishra-Week01-Report.docx', '~$FO 208 Quiz #1 Hadoop -- Template (1).docx', 'Sukriti,Mishra-Week08-Report.docx', '03 Spark.pptx', 'AnswersQuiz.docx', 'Timeline service error.png', 'Sukriti,Mishra-Week04-Report.docx', 'X00 Sandboxes for Labs Work, v2.pptx', 'Sukriti,Mishra-Week07-Report.docx', 'StandardNormal.ipynb', '05 Data Formats & Data Movement.pptx', 'Sampling distribution_uniform_1.ipynb', 'L06 Jupyter Labs, v3.docx', '07 The Hadoop Ecosystem.pptx', '01 Introduction to Hadoop & HDFS.pptx', 'Trucking-IoT-CDA-V2.json', 'Object-Oriented Programming.ipynb', 'Sukriti,Mishra-Week02-Report.docx', 'firstlab.ipynb', 'INFO 208 Quiz #1Mishra_Sukriti.docx', 'Intro.docx']\n",
      "\n",
      "\n",
      "\n",
      "/Users/sukritimishra/sjsu/big data technologies/week00Screenshots\n",
      "[]\n",
      "['Screen Shot 2019-08-25 at 7.42.09 PM.png', 'Screen Shot 2019-08-25 at 8.30.54 PM.png', 'Screen Shot 2019-08-26 at 1.44.55 AM.png', 'Screen Shot 2019-08-25 at 7.40.04 PM.png', 'Screen Shot 2019-08-25 at 8.08.03 PM.png', 'Screen Shot 2019-08-25 at 5.30.56 PM.png', 'Screen Shot 2019-08-26 at 1.41.35 AM.png', 'Screen Shot 2019-08-25 at 7.33.13 PM.png', 'Screen Shot 2019-08-25 at 7.55.41 PM.png', 'Screen Shot 2019-08-26 at 1.37.40 AM.png', 'Screen Shot 2019-08-25 at 7.54.00 PM.png', 'Screen Shot 2019-08-25 at 7.41.03 PM.png', 'Screen Shot 2019-08-25 at 8.30.38 PM.png', 'Screen Shot 2019-08-26 at 12.48.51 AM.png', 'Screen Shot 2019-08-26 at 12.50.02 AM.png', 'Screen Shot 2019-08-25 at 8.12.37 PM.png', 'Screen Shot 2019-08-26 at 12.49.32 AM.png', 'Screen Shot 2019-08-26 at 1.39.01 AM.png']\n",
      "\n",
      "\n",
      "\n",
      "/Users/sukritimishra/sjsu/big data technologies/Week01Screenshots\n",
      "[]\n",
      "['Screen Shot 2019-08-28 at 9.19.01 PM.png', 'Screen Shot 2019-08-28 at 9.19.58 PM.png', 'Error Page.png', 'Screen Shot 2019-08-28 at 8.30.42 AM.png', 'Screen Shot 2019-08-28 at 9.12.50 PM.png', 'Screen Shot 2019-08-28 at 9.17.55 PM.png', 'Screen Shot 2019-08-28 at 9.20.27 PM.png', 'Screen Shot 2019-08-28 at 6.57.52 PM.png', 'Screen Shot 2019-08-28 at 9.13.22 PM.png', 'Timeline service error.png', 'Screen Shot 2019-08-28 at 9.20.43 PM.png', 'Screen Shot 2019-08-28 at 8.02.09 PM.png', 'Screen Shot 2019-08-28 at 11.44.58 AM.png']\n",
      "\n",
      "\n",
      "\n",
      "/Users/sukritimishra/sjsu/big data technologies/.ipynb_checkpoints\n",
      "[]\n",
      "['Mysecond_notebook-checkpoint.ipynb', 'firstlab-checkpoint.ipynb']\n",
      "\n",
      "\n",
      "\n",
      "/Users/sukritimishra/sjsu/DBMS\n",
      "['Sales-Schema 4', 'Sales-Schema 5', 'Sales-Schema 2', '.ipynb_checkpoints']\n",
      "['Lab-HW4-Oct-11.docx', 'HW1.docx', 'week2_1.pptx', '.DS_Store', 'HW3-Q1-Solution.docx', 'week2.pptx', 'instructor_class.sql', 'SQL-Practice-1.docx', 'Saleco_Oracle (1).sql', 'SQL-Part1_week4.pptx', 'week3.pptx', 'Midterm-Sample-3.docx', 'SaleCo_MySQL.sql', 'Sukriti,Mishra-Week01-Report.docx', 'In-class-4-Oct-(B)-Solution.docx', 'Saleco_Oracle.sql', 'bookstore.sql', 'In-class-Sep-20.docx', 'Sukriti_Mishra-DBMS-02.docx', 'In-class-4-Oct-(C)-Solution.docx', 'DBMS_Assignment-01.mwb', 'Database Project.docx', 'SQL-InClass-Sep-27.docx', 'HW2.docx', 'In-Class-4-Oct-(A)-Solution.docx', 'Normalization_Practice.docx', 'SQL-Parts-2-3-week6.pptx', 'Sukriti_Mishra_Lab 04.docx', 'Weeks 1.pptx', 'HW3.docx', 'Sukriti_Mishra_HW03_docx.docx', 'week3-2.pptx']\n",
      "\n",
      "\n",
      "\n",
      "/Users/sukritimishra/sjsu/DBMS/Sales-Schema 4\n",
      "['Sales-Schema', 'Sales-Schema 7']\n",
      "['.DS_Store', 'Oracle_Sales_Schema.sql', 'Sales-Schema copy.zip', 'MySQL_Sales_Schema.sql']\n",
      "\n",
      "\n",
      "\n",
      "/Users/sukritimishra/sjsu/DBMS/Sales-Schema 4/Sales-Schema\n",
      "[]\n",
      "['Oracle_Sales_Schema.sql', 'MySQL_Sales_Schema.sql']\n",
      "\n",
      "\n",
      "\n",
      "/Users/sukritimishra/sjsu/DBMS/Sales-Schema 4/Sales-Schema 7\n",
      "[]\n",
      "['Oracle_Sales_Schema.sql', 'MySQL_Sales_Schema.sql']\n",
      "\n",
      "\n",
      "\n",
      "/Users/sukritimishra/sjsu/DBMS/Sales-Schema 5\n",
      "[]\n",
      "['Oracle_Sales_Schema.sql', 'Sales-Schema.zip', 'MySQL_Sales_Schema.sql']\n",
      "\n",
      "\n",
      "\n",
      "/Users/sukritimishra/sjsu/DBMS/Sales-Schema 2\n",
      "['Sales-Schema 3']\n",
      "['.DS_Store', 'Oracle_Sales_Schema.sql', 'MySQL_Sales_Schema.sql']\n",
      "\n",
      "\n",
      "\n",
      "/Users/sukritimishra/sjsu/DBMS/Sales-Schema 2/Sales-Schema 3\n",
      "[]\n",
      "['Assignment.mwb.mwb', 'Oracle_Sales_Schema.sql', 'Assignment DBMS.mwb.bak', 'Assignment.mwb 2.mwb.bak', 'Assignment.mwb 2.mwb', 'Untitled.mwb', 'Assignment.mwb', 'Assignment DBMS.mwb', 'MySQL_Sales_Schema.sql']\n",
      "\n",
      "\n",
      "\n",
      "/Users/sukritimishra/sjsu/DBMS/.ipynb_checkpoints\n",
      "[]\n",
      "['AirlineSafetyCSV-checkpoint.ipynb']\n",
      "\n",
      "\n",
      "\n",
      "/Users/sukritimishra/sjsu/Maths Methods\n",
      "['new folder', 'Assignment2', '.ipynb_checkpoints', '.idea']\n",
      "['Class8-Midterm-Divya Puraswani-013755391.ipynb', 'week03.pptx', 'Assignment 3_report.docx', 'CoeffOfDet.ipynb', 'vehicle_certification.ipynb', 'sampling_normal_distribution.ipynb', 'Untitled1.ipynb', 'TitanicAnalysis.ipynb', 'Renewable_production.ipynb', 'Assignment 3_report.pdf', '.DS_Store', 'Class5HomeworkAssignment-Puraswani-013755391.ipynb', 'Vehicle_certification_data.ipynb', 'record.json', 'Assignment 3_jupyter_notebook_report.pdf', 'Class6HomeworkAssignment.ipynb', 'Sampling_distribution_uniform.ipynb', '~$DATA200week06.pptx', 'Normal random value charts.ipynb', 'LeastSquaresLine.ipynb', '~$DATA220-week07.pptx', 'sample_table.csv', 'autotel-shared-car-locations.zip', 'Untitled.ipynb', 'Class 2 Homework Assignment.ipynb', 'weighted_average.ipynb', 'Sampling distribution_exponential.ipynb', 'test.csv', 'list Comprehensions.ipynb', 'sum.ipynb', 'Midterm-Solutions-Fall2019.ipynb', 'Goodreadsbook.ipynb', 'RollDieDynamic.py', 'aparna_assignment_animation.py', 'DATA220-190827.textClipping', 'nyc-building-energy-usage.zip', 'Lists.ipynb', 'AgeBarChart.ipynb', 'median.ipynb', 'results.txt', 'sukriti_mishra_assignment04.py', 'TitanicSurvival.csv', 'ScatterPlot.ipynb', 'books.csv', 'Uniform Distribution.ipynb', 'test2.csv', 'range.ipynb', 'mean.ipynb', 'monty_hall_problem.ipynb', 'Uniform random value charts.ipynb', 'Car_data_analysis.ipynb', 'IQR.ipynb', 'Car_data_analysis(Final).ipynb', '~$DATA200week05.pptx', 'goodreadsbooks.zip', 'results 3.csv', 'week-08.pptx', 'results 2.csv', 'DCAS_Managed_Building_Energy_Usage.csv', 'Commercials_vehicles.csv', 'crimes-in-boston.zip', 'Sampling distribution_uniform.ipynb', 'Normal Distribution.ipynb', 'results.csv', 'StandardNormal (1).ipynb', 'Correlation.ipynb', 'hw3-1.ipynb', 'Sampling distribution_normal.ipynb']\n",
      "\n",
      "\n",
      "\n",
      "/Users/sukritimishra/sjsu/Maths Methods/new folder\n",
      "['.ipynb_checkpoints']\n",
      "['DATA220-week-01.pptx', 'DATA200week02.pptx', 'DATA220-week03.pptx', 'Class11HomeworkAssignment-Revised-Worked.ipynb', 'Class13HomeworkAssignment-013755391.ipynb', 'ncert_probablity.pdf', 'Class7-MidtermPractice-Solutions-Supplementary.ipynb', 'DATA200week05.pptx', 'Class14HomeworkAssignment-013755391.ipynb', 'DATA220-week07.pptx', 'DATA200week06.pptx', 'DATA220-week04ptx.pptx', 'DATA220-week-updated.pptx', 'Class 4 Homework Assignment - Part 1_Puraswani_013755391.ipynb']\n",
      "\n",
      "\n",
      "\n",
      "/Users/sukritimishra/sjsu/Maths Methods/new folder/.ipynb_checkpoints\n",
      "[]\n",
      "['Class14HomeworkAssignment-013755391-checkpoint.ipynb', 'Class13HomeworkAssignment-013755391-checkpoint.ipynb', 'Class7-MidtermPractice-Solutions-Supplementary-checkpoint.ipynb', 'Class 4 Homework Assignment - Part 1_Puraswani_013755391-checkpoint.ipynb']\n",
      "\n",
      "\n",
      "\n",
      "/Users/sukritimishra/sjsu/Maths Methods/Assignment2\n",
      "['.ipynb_checkpoints']\n",
      "['Uniform random value charts .ipynb', 'Normal random value charts.ipynb', 'Exponential random values charts.ipynb']\n",
      "\n",
      "\n",
      "\n",
      "/Users/sukritimishra/sjsu/Maths Methods/Assignment2/.ipynb_checkpoints\n",
      "[]\n",
      "['Uniform random value charts -checkpoint.ipynb', 'Normal random value charts-checkpoint.ipynb', 'Exponential random values charts-checkpoint.ipynb']\n",
      "\n",
      "\n",
      "\n",
      "/Users/sukritimishra/sjsu/Maths Methods/.ipynb_checkpoints\n",
      "[]\n",
      "['hw3-1-checkpoint.ipynb', 'Class 2 Homework Assignment-checkpoint.ipynb', 'LeastSquaresLine-checkpoint.ipynb', 'JSON-checkpoint.ipynb', 'Class14HomeworkAssignment-013755391-checkpoint.ipynb', 'Assignment5_AM-checkpoint.ipynb', 'Sampling distribution_normal-checkpoint.ipynb', 'RollDieDynamic-checkpoint.py', 'Lists-checkpoint.ipynb', 'test-checkpoint.csv', 'Normal Distribution-checkpoint.ipynb', 'Football_Team-checkpoint.ipynb', 'Sampling_distribution_uniform-checkpoint.ipynb', 'AgeBarChart-checkpoint.ipynb', 'median-checkpoint.ipynb', 'Uniform random value charts (1)-checkpoint.ipynb', 'DCAS_Managed_Building_Energy_Usage-checkpoint.csv', 'Class6HomeworkAssignment-checkpoint.ipynb', 'record-checkpoint.json', 'Uniform Distribution-checkpoint.ipynb', 'Sampling distribution_exponential-checkpoint.ipynb', 'sum-checkpoint.ipynb', 'Normal random value charts_Aparna-checkpoint.ipynb', 'sampling_normal_distribution-checkpoint.ipynb', 'weighted_average-checkpoint.ipynb', 'Class13HomeworkAssignment-013755391-checkpoint.ipynb', 'Car_data_analysis_Aparna-checkpoint.ipynb', 'monty_hall_problem-checkpoint.ipynb', 'Uniform random value charts-checkpoint.ipynb', 'Assignment 3_jupyter_notebook_report-checkpoint.pdf', 'python.ipynb-checkpoint.html', 'CoeffOfDet-checkpoint.ipynb', 'Assignment_5-checkpoint.ipynb', 'Energy_Usage-checkpoint.ipynb', 'Car_data_analysis-checkpoint.ipynb', 'Exponential random values charts_Aparna-checkpoint.ipynb', 'Class 4 Homework Assignment - Part2_Puraswani_013755391-checkpoint.ipynb', 'mean-checkpoint.ipynb', 'Midterm-Solutions-Fall2019-checkpoint.ipynb', 'IQR-checkpoint.ipynb', 'results 2-checkpoint.csv', 'vehicle_certification-checkpoint.ipynb', 'CSV-checkpoint.ipynb', 'Correlation-checkpoint.ipynb', 'Class8-Midterm-Divya Puraswani-013755391-checkpoint.ipynb', 'Untitled1-checkpoint.ipynb', 'Car_data_analysis(Final)-checkpoint.ipynb', 'test2-checkpoint.csv', 'list Comprehensions-checkpoint.ipynb', 'TitanicAnalysis-checkpoint.ipynb', 'Class7-MidtermPractice-Solutions-Supplementary-checkpoint.ipynb', 'range-checkpoint.ipynb', 'Renewable_production-checkpoint.ipynb', 'Normal random value charts-checkpoint.ipynb', 'Class5HomeworkAssignment-Puraswani-013755391-checkpoint.ipynb', 'Assignment_5_edited-checkpoint.ipynb', 'Untitled-checkpoint.ipynb', 'Roll-checkpoint.ipynb', 'Goodreadsbook-checkpoint.ipynb', 'Vehicle_certification_data-checkpoint.ipynb', 'Class 4 Homework Assignment - Part 1_Puraswani_013755391-checkpoint.ipynb', 'File & Directory Processing-checkpoint.ipynb', 'Class11HomeworkAssignment-Revised-Worked-checkpoint.ipynb', 'TitanicSurvival-checkpoint.csv', 'Sampling distribution_uniform-checkpoint.ipynb', 'StandardNormal (1)-checkpoint.ipynb', 'Midterm-Fall2019-checkpoint.ipynb', 'books-checkpoint.csv']\n",
      "\n",
      "\n",
      "\n",
      "/Users/sukritimishra/sjsu/Maths Methods/.idea\n",
      "['inspectionProfiles']\n",
      "['Maths Methods.iml', 'other.xml', 'workspace.xml', 'modules.xml', 'misc.xml']\n",
      "\n",
      "\n",
      "\n",
      "/Users/sukritimishra/sjsu/Maths Methods/.idea/inspectionProfiles\n",
      "[]\n",
      "['profiles_settings.xml']\n",
      "\n",
      "\n",
      "\n",
      "/Users/sukritimishra/sjsu/PycharmProjects\n",
      "[]\n",
      "['.DS_Store']\n",
      "\n",
      "\n",
      "\n",
      "/Users/sukritimishra/sjsu/DATA-200\n",
      "['PycharmProjects', '.ipynb_checkpoints']\n",
      "['DATA200 HW1.pdf', 'entry.json', 'DATA200 HW3.pdf', 'DATA200 HW2.pdf', 'thinkpython2.pdf', 'DATA 200 Lecture 3+.pdf', 'DATA 200 Lecture 3.pdf', 'DATA200 HW6.pdf', '.DS_Store', 'DATA 200 Lecture 2.pdf', 'record.json', 'DATA200 HW5.pdf', 'DATA 200 Lecture 1.pdf', 'Untitled.ipynb', 'datetime & calendar.ipynb', 'operator & itertools.ipynb', 'File & Directory Processing.ipynb', '~$bbyPrasad, Rashmi-Week06-Report.docx', 'input.txt', 'collections.ipynb', 'hw3-1.py', 'DATA200 HW4 (updated 2).pdf', 'test2.csv', 'JSON.ipynb', 'hw3-2.ipynb', 'HW3-2 Soln.ipynb', 'HW4-2 Soln.ipynb', 'hw4-1.py', 'urllib.ipynb', 'Regular Expressions.ipynb', 'Object-Oriented Programming.ipynb', 'CSV.ipynb', 'DATA 200- PYTHON']\n",
      "\n",
      "\n",
      "\n",
      "/Users/sukritimishra/sjsu/DATA-200/PycharmProjects\n",
      "['practice']\n",
      "['.DS_Store']\n",
      "\n",
      "\n",
      "\n",
      "/Users/sukritimishra/sjsu/DATA-200/PycharmProjects/practice\n",
      "['.ipynb_checkpoints', '.idea']\n",
      "['averages.csv', 'hw5-2.py', 'exception.py', '.DS_Store', 'hw4-2.py', 'input.zip', 'Class_practice', 'hw3-2.py', 'hw1-4.py', 'hw2-3.py', 'aver_temp.json', 'maths_practice.py', 'hw1-1.py', 'sf_2019-9-30_data.csv', 'hw1-5.py', 'hw2-2.py', 'hw1-2.py', 'hw1-6.py', 'hw2-1.py', 'hw3-1.py', 'dictionaries.py', 'hw1-3.py', 'hw4-1.py', 'hw5-1.py', 'leaderboard.csv']\n",
      "\n",
      "\n",
      "\n",
      "/Users/sukritimishra/sjsu/DATA-200/PycharmProjects/practice/.ipynb_checkpoints\n",
      "[]\n",
      "['leaderboard-checkpoint.csv', 'sf_2019-9-30_data-checkpoint.csv', 'hw4-1-checkpoint.py', 'hw3-1-checkpoint.py', 'Class_practice-checkpoint', 'hw4-2-checkpoint.py', 'hw5-2-checkpoint.py', 'hw5-1-checkpoint.py']\n",
      "\n",
      "\n",
      "\n",
      "/Users/sukritimishra/sjsu/DATA-200/PycharmProjects/practice/.idea\n",
      "['inspectionProfiles']\n",
      "['practice.iml', 'workspace.xml', 'modules.xml', 'misc.xml']\n",
      "\n",
      "\n",
      "\n",
      "/Users/sukritimishra/sjsu/DATA-200/PycharmProjects/practice/.idea/inspectionProfiles\n",
      "[]\n",
      "['profiles_settings.xml']\n",
      "\n",
      "\n",
      "\n",
      "/Users/sukritimishra/sjsu/DATA-200/.ipynb_checkpoints\n",
      "[]\n",
      "['JSON-checkpoint.ipynb', 'record-checkpoint.json', 'urllib-checkpoint.ipynb', 'collections-checkpoint.ipynb', 'CSV-checkpoint.ipynb', 'hw4-1-checkpoint.py', 'test2-checkpoint.csv', 'Object-Oriented Programming-checkpoint.ipynb', 'HW4-2 Soln-checkpoint.ipynb', 'hw3-1-checkpoint.py', 'entry-checkpoint.json', 'input-checkpoint.txt', 'Untitled-checkpoint.ipynb', 'operator & itertools-checkpoint.ipynb', 'File & Directory Processing-checkpoint.ipynb', 'hw3-2-checkpoint.ipynb', 'Regular Expressions-checkpoint.ipynb', 'datetime & calendar-checkpoint.ipynb', 'HW3-2 Soln-checkpoint.ipynb']\n",
      "\n",
      "\n",
      "\n"
     ]
    }
   ],
   "source": [
    "for root, dirs, files in os.walk(\"/Users/sukritimishra/sjsu\"):\n",
    "    print(root)\n",
    "    print(dirs)\n",
    "    print(files)\n",
    "    print(\"\\n\\n\")"
   ]
  },
  {
   "cell_type": "code",
   "execution_count": 62,
   "metadata": {},
   "outputs": [
    {
     "name": "stdout",
     "output_type": "stream",
     "text": [
      "2019-10-22 06:11:44.635391\n",
      "2019-09-02 18:39:37.833163\n",
      "1567474777.8331635\n"
     ]
    }
   ],
   "source": [
    "timestamp = os.path.getctime(\"/Users/sukritimishra/sjsu/big data technologies/Week01Screenshots/Screen Shot 2019-08-28 at 9.19.01 PM.png\")\n",
    "from datetime import *\n",
    "print(datetime.now() - timedelta(days=2))\n",
    "print(datetime.fromtimestamp(timestamp))\n",
    "print(timestamp)"
   ]
  },
  {
   "cell_type": "markdown",
   "metadata": {},
   "source": [
    "### rename a file"
   ]
  },
  {
   "cell_type": "code",
   "execution_count": 34,
   "metadata": {},
   "outputs": [
    {
     "ename": "FileNotFoundError",
     "evalue": "[Errno 2] No such file or directory: 'old.txt' -> 'new.txt'",
     "output_type": "error",
     "traceback": [
      "\u001b[0;31m---------------------------------------------------------------------------\u001b[0m",
      "\u001b[0;31mFileNotFoundError\u001b[0m                         Traceback (most recent call last)",
      "\u001b[0;32m<ipython-input-34-4e22b7d26a4b>\u001b[0m in \u001b[0;36m<module>\u001b[0;34m\u001b[0m\n\u001b[0;32m----> 1\u001b[0;31m \u001b[0mos\u001b[0m\u001b[0;34m.\u001b[0m\u001b[0mrename\u001b[0m\u001b[0;34m(\u001b[0m\u001b[0;34m\"old.txt\"\u001b[0m\u001b[0;34m,\u001b[0m \u001b[0;34m\"new.txt\"\u001b[0m\u001b[0;34m)\u001b[0m\u001b[0;34m\u001b[0m\u001b[0;34m\u001b[0m\u001b[0m\n\u001b[0m",
      "\u001b[0;31mFileNotFoundError\u001b[0m: [Errno 2] No such file or directory: 'old.txt' -> 'new.txt'"
     ]
    }
   ],
   "source": [
    "os.rename(\"old.txt\", \"new.txt\")"
   ]
  },
  {
   "cell_type": "markdown",
   "metadata": {},
   "source": [
    "# glob standard library   <a href=\"https://docs.python.org/3.7/library/glob.html\">python doc</a>"
   ]
  },
  {
   "cell_type": "code",
   "execution_count": 63,
   "metadata": {},
   "outputs": [],
   "source": [
    "import glob"
   ]
  },
  {
   "cell_type": "markdown",
   "metadata": {},
   "source": [
    "### unix style pathname pattern expansion\n",
    "* glob.glob(pathname) returns a list of files matching the pattern\n",
    "* glob.iglob() returns a generator to the files matching the pattern"
   ]
  },
  {
   "cell_type": "code",
   "execution_count": 64,
   "metadata": {},
   "outputs": [
    {
     "data": {
      "text/plain": [
       "['DATA200 HW1.pdf',\n",
       " 'entry.json',\n",
       " 'DATA200 HW3.pdf',\n",
       " 'DATA200 HW2.pdf',\n",
       " 'thinkpython2.pdf',\n",
       " 'DATA 200 Lecture 3+.pdf',\n",
       " 'DATA 200 Lecture 3.pdf',\n",
       " 'DATA200 HW6.pdf',\n",
       " 'DATA 200 Lecture 2.pdf',\n",
       " 'record.json',\n",
       " 'DATA200 HW5.pdf',\n",
       " 'DATA 200 Lecture 1.pdf',\n",
       " 'Untitled.ipynb',\n",
       " 'datetime & calendar.ipynb',\n",
       " 'operator & itertools.ipynb',\n",
       " 'File & Directory Processing.ipynb',\n",
       " '~$bbyPrasad, Rashmi-Week06-Report.docx',\n",
       " 'input.txt',\n",
       " 'collections.ipynb',\n",
       " 'hw3-1.py',\n",
       " 'DATA200 HW4 (updated 2).pdf',\n",
       " 'test2.csv',\n",
       " 'JSON.ipynb',\n",
       " 'hw3-2.ipynb',\n",
       " 'HW3-2 Soln.ipynb',\n",
       " 'HW4-2 Soln.ipynb',\n",
       " 'hw4-1.py',\n",
       " 'urllib.ipynb',\n",
       " 'Regular Expressions.ipynb',\n",
       " 'Object-Oriented Programming.ipynb',\n",
       " 'CSV.ipynb']"
      ]
     },
     "execution_count": 64,
     "metadata": {},
     "output_type": "execute_result"
    }
   ],
   "source": [
    "glob.glob(\"*.*\")"
   ]
  },
  {
   "cell_type": "code",
   "execution_count": 65,
   "metadata": {},
   "outputs": [
    {
     "data": {
      "text/plain": [
       "['DATA200 HW1.pdf',\n",
       " 'DATA200 HW3.pdf',\n",
       " 'DATA200 HW2.pdf',\n",
       " 'thinkpython2.pdf',\n",
       " 'DATA 200 Lecture 3+.pdf',\n",
       " 'DATA 200 Lecture 3.pdf',\n",
       " 'DATA200 HW6.pdf',\n",
       " 'DATA 200 Lecture 2.pdf',\n",
       " 'DATA200 HW5.pdf',\n",
       " 'DATA 200 Lecture 1.pdf',\n",
       " 'DATA200 HW4 (updated 2).pdf']"
      ]
     },
     "execution_count": 65,
     "metadata": {},
     "output_type": "execute_result"
    }
   ],
   "source": [
    "glob.glob(\"*.pdf\")"
   ]
  },
  {
   "cell_type": "code",
   "execution_count": 66,
   "metadata": {},
   "outputs": [
    {
     "data": {
      "text/plain": [
       "[]"
      ]
     },
     "execution_count": 66,
     "metadata": {},
     "output_type": "execute_result"
    }
   ],
   "source": [
    "glob.glob(\"*/*.pdf\", recursive=True)"
   ]
  },
  {
   "cell_type": "code",
   "execution_count": 67,
   "metadata": {},
   "outputs": [
    {
     "data": {
      "text/plain": [
       "['DATA200 HW1.pdf',\n",
       " 'DATA200 HW3.pdf',\n",
       " 'DATA200 HW2.pdf',\n",
       " 'thinkpython2.pdf',\n",
       " 'DATA 200 Lecture 3+.pdf',\n",
       " 'DATA 200 Lecture 3.pdf',\n",
       " 'DATA200 HW6.pdf',\n",
       " 'DATA 200 Lecture 2.pdf',\n",
       " 'DATA200 HW5.pdf',\n",
       " 'DATA 200 Lecture 1.pdf',\n",
       " 'DATA200 HW4 (updated 2).pdf']"
      ]
     },
     "execution_count": 67,
     "metadata": {},
     "output_type": "execute_result"
    }
   ],
   "source": [
    "glob.glob(\"**/*.pdf\", recursive=True)"
   ]
  },
  {
   "cell_type": "code",
   "execution_count": 68,
   "metadata": {},
   "outputs": [
    {
     "data": {
      "text/plain": [
       "<generator object _iglob at 0x10819b570>"
      ]
     },
     "execution_count": 68,
     "metadata": {},
     "output_type": "execute_result"
    }
   ],
   "source": [
    "glob.iglob(\"*.pdf\")"
   ]
  },
  {
   "cell_type": "markdown",
   "metadata": {},
   "source": [
    "# shutil standard library   <a href=\"https://docs.python.org/3.7/library/shutil.html\">python doc</a>"
   ]
  },
  {
   "cell_type": "code",
   "execution_count": 69,
   "metadata": {},
   "outputs": [],
   "source": [
    "import shutil"
   ]
  },
  {
   "cell_type": "code",
   "execution_count": 71,
   "metadata": {},
   "outputs": [],
   "source": [
    "shutil.move(\"old.txt\", \"new.txt\")"
   ]
  },
  {
   "cell_type": "code",
   "execution_count": null,
   "metadata": {},
   "outputs": [],
   "source": [
    "shutil.copy(\"new.txt\", \"old.txt\")"
   ]
  },
  {
   "cell_type": "code",
   "execution_count": null,
   "metadata": {},
   "outputs": [],
   "source": [
    "shutil.copytree(\"TEST\", \"TEST2\")"
   ]
  }
 ],
 "metadata": {
  "kernelspec": {
   "display_name": "Python 3",
   "language": "python",
   "name": "python3"
  },
  "language_info": {
   "codemirror_mode": {
    "name": "ipython",
    "version": 3
   },
   "file_extension": ".py",
   "mimetype": "text/x-python",
   "name": "python",
   "nbconvert_exporter": "python",
   "pygments_lexer": "ipython3",
   "version": "3.7.3"
  }
 },
 "nbformat": 4,
 "nbformat_minor": 4
}
